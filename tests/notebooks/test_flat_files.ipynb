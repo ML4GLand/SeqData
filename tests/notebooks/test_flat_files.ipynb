{
 "cells": [
  {
   "cell_type": "code",
   "execution_count": 175,
   "metadata": {},
   "outputs": [],
   "source": [
    "import os\n",
    "import pandas as pd\n",
    "import numpy as np\n",
    "import zarr\n",
    "from pathlib import Path\n",
    "from seqdata import Table, FlatFASTA, GenomeFASTA, BigWig, BAM\n",
    "import seqdata as sd\n",
    "import xarray as xr\n",
    "import pysam\n",
    "import random"
   ]
  },
  {
   "cell_type": "code",
   "execution_count": 176,
   "metadata": {},
   "outputs": [],
   "source": [
    "# Make a temporary directory for the output\n",
    "os.makedirs(Path(sd.__file__).resolve().parent.parent / 'tests' / 'data' / 'tmp', exist_ok=True)"
   ]
  },
  {
   "cell_type": "code",
   "execution_count": 177,
   "metadata": {},
   "outputs": [],
   "source": [
    "# Get infiles\n",
    "variable_tsv_in = Path(sd.__file__).resolve().parent.parent / 'tests' / 'data' / 'variable.tsv'\n",
    "fixed_tsv_in = Path(sd.__file__).resolve().parent.parent / 'tests' / 'data' / 'fixed.tsv'\n",
    "variable_fasta_in = Path(sd.__file__).resolve().parent.parent / 'tests' / 'data' / 'variable.fa'\n",
    "fixed_fasta_in = Path(sd.__file__).resolve().parent.parent / 'tests' / 'data' / 'fixed.fa'\n",
    "out = Path(sd.__file__).resolve().parent.parent / 'tests' / 'data' / 'tmp'"
   ]
  },
  {
   "cell_type": "markdown",
   "metadata": {},
   "source": [
    "# `Table`"
   ]
  },
  {
   "cell_type": "code",
   "execution_count": 178,
   "metadata": {},
   "outputs": [],
   "source": [
    "def test_Table(\n",
    "    input_tsv, \n",
    "    temp_dir, \n",
    "    seq_col=\"seq\", \n",
    "    target_col=\"target\", \n",
    "    batch_size=50, \n",
    "    fixed_length=False,\n",
    "    length_dim=\"_length\"\n",
    "):\n",
    "    \"\"\"\n",
    "    Tests the Table class for one or more input TSV files.\n",
    "\n",
    "    Parameters:\n",
    "        input_tsv (str or list): Path to a single TSV file or a list of TSV file paths.\n",
    "        temp_dir (str or Path): Directory where temporary files will be stored.\n",
    "        seq_col (str): Column name for sequences in the input TSV.\n",
    "        target_col (str): Column name for targets in the input TSV.\n",
    "        batch_size (int): Batch size for the Table reader.\n",
    "        fixed_length (bool): Whether to use fixed-length sequences when writing to Zarr.\n",
    "        length_dim (str): Name of the length dimension in the Zarr output.\n",
    "\n",
    "    Raises:\n",
    "        AssertionError: If any test fails.\n",
    "    \"\"\"\n",
    "    temp_dir = Path(temp_dir)\n",
    "    temp_dir.mkdir(parents=True, exist_ok=True)\n",
    "    tsv_out = temp_dir / 'output.tsv.zarr'\n",
    "\n",
    "    # Ensure input_tsv is a list\n",
    "    if isinstance(input_tsv, str) or isinstance(input_tsv, Path):\n",
    "        input_tsv = [input_tsv]\n",
    "\n",
    "    # Read in data with pandas as true representation\n",
    "    true = pd.concat([pd.read_csv(tsv_file, sep=\"\\t\") for tsv_file in input_tsv], ignore_index=True)\n",
    "\n",
    "    # Test instantiation of the Table reader class\n",
    "    table_reader = Table(\n",
    "        name=\"seq\",\n",
    "        tables=input_tsv,\n",
    "        seq_col=seq_col,\n",
    "        batch_size=batch_size,\n",
    "    )\n",
    "    assert isinstance(table_reader, Table), \"Table reader instantiation failed.\"\n",
    "\n",
    "    # Test writing to Zarr\n",
    "    table_reader._write(\n",
    "        tsv_out,\n",
    "        fixed_length=fixed_length,\n",
    "        sequence_dim=\"_sequence\",\n",
    "        overwrite=True,\n",
    "        length_dim=length_dim\n",
    "    )\n",
    "    zarr.consolidate_metadata(tsv_out)\n",
    "\n",
    "    # Test round-trip reading\n",
    "    data = sd.open_zarr(tsv_out)\n",
    "\n",
    "    # Verify that the data is the same\n",
    "    if fixed_length:\n",
    "        seqs = [''.join(row.astype(str)) for row in data[\"seq\"].values]\n",
    "    else:\n",
    "        seqs = data[\"seq\"].values.astype(str)\n",
    "    targets = data[target_col].values\n",
    "\n",
    "    print(seqs)\n",
    "    print(targets)\n",
    "    assert np.array_equal(true[seq_col], seqs), \"Sequences do not match.\"\n",
    "    assert np.array_equal(true[target_col], targets), \"Targets do not match.\"\n",
    "\n",
    "    # Clean up temporary files\n",
    "    for f in temp_dir.iterdir():\n",
    "        if f.is_dir():\n",
    "            os.system(f'rm -r {f}')\n",
    "        else:\n",
    "            f.unlink()\n",
    "\n",
    "    print(\"All tests passed successfully!\")\n"
   ]
  },
  {
   "cell_type": "code",
   "execution_count": 179,
   "metadata": {},
   "outputs": [
    {
     "name": "stderr",
     "output_type": "stream",
     "text": [
      "7it [00:00, 219.41it/s]"
     ]
    },
    {
     "name": "stdout",
     "output_type": "stream",
     "text": [
      "['GGACTTTGGGAGGACAGATTGTTCGCAAGAACCCATGATCTATCACAGTTCGTCGTATAAAGCCCGCAACCAGTTCAGACGTATAAATGCAGCCTATAGCATCTTCCTCGAACCTCATGG'\n",
      " 'AGCaCgCAGTGAAAATAgGTATACacATTCCCGAGGgGCaACGCATAGCAAAATAACATGGGGCcCATGTTAGTTTAGGTGGGATGACGCCTGTagAAGATTATGCTtAtGGaGGaGACTGGCGAGGCAATGgAGCGAAGCGtCTaGGTGTGAGAGCACAtCTGCTTTtAGCTCATCTCtTCACAAGTcGaTAAAgaGGGGACAGGaaTTTTCGGTACAGATAAAGACGtCGTTGcTCtAAGTGCATTGGTAAGGACTACAcaTGCCtTTtGCgGGcAGCaAaCGTTTAaAAGAtCaTAGAAAaCGCAGCATTCTAAACAaaTGGCTgTCATCGGATcGATGCGACTGGAAAGaAACTACTTCGCGGTCtACGGCGGTCCCACtTGACACCACATCGtGC'\n",
      " 'CGCGAAGAGAGTCCATGCGGAAACAAGTCTATGGCTAGTGATCGCATCGGGCTGTCAGACTTCTTGTGAGACGCCAGATTAAGCCACGCACTCCCATAGTATGGTTGCGC'\n",
      " 'TAAAATACAAACGCGACTCATACAACAGTACTTATGACGCGAGTGGTACTTGCAGTTCCACACATCGAATTCCTGTACATACTCATAGCTAAGACGTCTGCTAAAACACATGGTCTACACTCCCGTAGTCGGGATGGGAGTTTTGGAGCC'\n",
      " 'CTTAGATATCGTTGATAAAGGCGTAGCGGTAGGGATTCGCATACGGCATGCTTATCGAAGGAGCGGAGATCCTGTAAGATCAATAGAGTCGTCTGGATTCTATCCTTCGCAAGCCTGAAGGACTGCCAACATTCGCAGACGTGTCTTATTCGAGCTGCCAGTCTCCGCATCTTCAGATGTTAGCGCTTTTGTAGCAACGAGCGGATATTCGGGATGGTCTGGAAGCCTTATGCACACGAATAATACGGATAGTGGGAGTGAATCAATCCTGAACCACTTTACACTTCCTAAGGTGCTATC'\n",
      " 'TAAATCCGCAGCGAGGCTAGACTCCAGCCGACTACTCTAGTGGTGGAGCGGTAATGATCTCCACAGCCGCGCCCTATTCCTGTCAAGTACTATAAGATGG'\n",
      " 'ATTGAATCCTTTCTCAGACTGAAGTTTTGTCCCTCTAGTCTAGCTTTGCGTGTTATGTTACCCGATGTATTTTCTAATTGTTATCCGAAACGAGTAATGTGTGTAATCACGCGCTGCGCCGACCGACCGAGGCCGACGAACGCCTACTAAGTGGATTTTACGTCACCATGCTGTTTCGGAATGGTCCACCGAAGTGTGGT']\n",
      "[-0.52928696 -1.75898058 -1.66558981 -0.38916949 -0.73085542  1.095118\n",
      " -1.21035606]\n",
      "All tests passed successfully!\n"
     ]
    },
    {
     "name": "stderr",
     "output_type": "stream",
     "text": [
      "\n"
     ]
    }
   ],
   "source": [
    "# Test Table class\n",
    "test_Table(input_tsv=variable_tsv_in, temp_dir=out, seq_col=\"seq\", target_col=\"target\", batch_size=50, fixed_length=False)"
   ]
  },
  {
   "cell_type": "code",
   "execution_count": 180,
   "metadata": {},
   "outputs": [
    {
     "name": "stderr",
     "output_type": "stream",
     "text": [
      "7it [00:00, 343.42it/s]"
     ]
    },
    {
     "name": "stdout",
     "output_type": "stream",
     "text": [
      "['GGACTTTGGGAGGACAGATT', 'AGCaCgCAGTGAAAATAgGT', 'CGCGAAGAGAGTCCATGCGG', 'TAAAATACAAACGCGACTCA', 'CTTAGATATCGTTGATAAAG', 'TAAATCCGCAGCGAGGCTAG', 'ATTGAATCCTTTCTCAGACT']\n",
      "[-0.52928696 -1.75898058 -1.66558981 -0.38916949 -0.73085542  1.095118\n",
      " -1.21035606]\n",
      "All tests passed successfully!\n"
     ]
    },
    {
     "name": "stderr",
     "output_type": "stream",
     "text": [
      "\n"
     ]
    }
   ],
   "source": [
    "test_Table(input_tsv=fixed_tsv_in, temp_dir=out, seq_col=\"seq\", target_col=\"target\", batch_size=50, fixed_length=20)"
   ]
  },
  {
   "cell_type": "code",
   "execution_count": 181,
   "metadata": {},
   "outputs": [
    {
     "name": "stderr",
     "output_type": "stream",
     "text": [
      "14it [00:00, 375.85it/s]"
     ]
    },
    {
     "name": "stdout",
     "output_type": "stream",
     "text": [
      "['GGACTTTGGGAGGACAGATTGTTCGCAAGAACCCATGATCTATCACAGTTCGTCGTATAAAGCCCGCAACCAGTTCAGACGTATAAATGCAGCCTATAGCATCTTCCTCGAACCTCATGG'\n",
      " 'AGCaCgCAGTGAAAATAgGTATACacATTCCCGAGGgGCaACGCATAGCAAAATAACATGGGGCcCATGTTAGTTTAGGTGGGATGACGCCTGTagAAGATTATGCTtAtGGaGGaGACTGGCGAGGCAATGgAGCGAAGCGtCTaGGTGTGAGAGCACAtCTGCTTTtAGCTCATCTCtTCACAAGTcGaTAAAgaGGGGACAGGaaTTTTCGGTACAGATAAAGACGtCGTTGcTCtAAGTGCATTGGTAAGGACTACAcaTGCCtTTtGCgGGcAGCaAaCGTTTAaAAGAtCaTAGAAAaCGCAGCATTCTAAACAaaTGGCTgTCATCGGATcGATGCGACTGGAAAGaAACTACTTCGCGGTCtACGGCGGTCCCACtTGACACCACATCGtGC'\n",
      " 'CGCGAAGAGAGTCCATGCGGAAACAAGTCTATGGCTAGTGATCGCATCGGGCTGTCAGACTTCTTGTGAGACGCCAGATTAAGCCACGCACTCCCATAGTATGGTTGCGC'\n",
      " 'TAAAATACAAACGCGACTCATACAACAGTACTTATGACGCGAGTGGTACTTGCAGTTCCACACATCGAATTCCTGTACATACTCATAGCTAAGACGTCTGCTAAAACACATGGTCTACACTCCCGTAGTCGGGATGGGAGTTTTGGAGCC'\n",
      " 'CTTAGATATCGTTGATAAAGGCGTAGCGGTAGGGATTCGCATACGGCATGCTTATCGAAGGAGCGGAGATCCTGTAAGATCAATAGAGTCGTCTGGATTCTATCCTTCGCAAGCCTGAAGGACTGCCAACATTCGCAGACGTGTCTTATTCGAGCTGCCAGTCTCCGCATCTTCAGATGTTAGCGCTTTTGTAGCAACGAGCGGATATTCGGGATGGTCTGGAAGCCTTATGCACACGAATAATACGGATAGTGGGAGTGAATCAATCCTGAACCACTTTACACTTCCTAAGGTGCTATC'\n",
      " 'TAAATCCGCAGCGAGGCTAGACTCCAGCCGACTACTCTAGTGGTGGAGCGGTAATGATCTCCACAGCCGCGCCCTATTCCTGTCAAGTACTATAAGATGG'\n",
      " 'ATTGAATCCTTTCTCAGACTGAAGTTTTGTCCCTCTAGTCTAGCTTTGCGTGTTATGTTACCCGATGTATTTTCTAATTGTTATCCGAAACGAGTAATGTGTGTAATCACGCGCTGCGCCGACCGACCGAGGCCGACGAACGCCTACTAAGTGGATTTTACGTCACCATGCTGTTTCGGAATGGTCCACCGAAGTGTGGT'\n",
      " 'GGACTTTGGGAGGACAGATT' 'AGCaCgCAGTGAAAATAgGT' 'CGCGAAGAGAGTCCATGCGG'\n",
      " 'TAAAATACAAACGCGACTCA' 'CTTAGATATCGTTGATAAAG' 'TAAATCCGCAGCGAGGCTAG'\n",
      " 'ATTGAATCCTTTCTCAGACT']\n",
      "[-0.52928696 -1.75898058 -1.66558981 -0.38916949 -0.73085542  1.095118\n",
      " -1.21035606 -0.52928696 -1.75898058 -1.66558981 -0.38916949 -0.73085542\n",
      "  1.095118   -1.21035606]\n",
      "All tests passed successfully!\n"
     ]
    },
    {
     "name": "stderr",
     "output_type": "stream",
     "text": [
      "\n"
     ]
    }
   ],
   "source": [
    "# Test Table class with multiple input files\n",
    "test_Table(input_tsv=[variable_tsv_in, fixed_tsv_in], temp_dir=out, seq_col=\"seq\", target_col=\"target\", batch_size=50, fixed_length=False)"
   ]
  },
  {
   "cell_type": "markdown",
   "metadata": {},
   "source": [
    "# `FlatFasta`"
   ]
  },
  {
   "cell_type": "code",
   "execution_count": 182,
   "metadata": {},
   "outputs": [],
   "source": [
    "def read_fasta(file_path):\n",
    "    \"\"\"\n",
    "    Reads a FASTA file and returns a dictionary of sequences.\n",
    "\n",
    "    Parameters:\n",
    "        file_path (str): Path to the FASTA file.\n",
    "\n",
    "    Returns:\n",
    "        dict: A dictionary where keys are sequence IDs and values are sequences.\n",
    "    \"\"\"\n",
    "    sequences = {}\n",
    "    with open(file_path, 'r') as file:\n",
    "        sequence_id = None\n",
    "        sequence_lines = []\n",
    "        for line in file:\n",
    "            line = line.strip()\n",
    "            if line.startswith(\">\"):\n",
    "                # Save the previous sequence (if any) before starting a new one\n",
    "                if sequence_id:\n",
    "                    sequences[sequence_id] = ''.join(sequence_lines)\n",
    "                # Start a new sequence\n",
    "                sequence_id = line[1:]  # Remove the '>'\n",
    "                sequence_lines = []\n",
    "            else:\n",
    "                # Append sequence lines\n",
    "                sequence_lines.append(line)\n",
    "        # Save the last sequence\n",
    "        if sequence_id:\n",
    "            sequences[sequence_id] = ''.join(sequence_lines)\n",
    "    return sequences\n",
    "\n",
    "\n",
    "def test_FlatFASTA(input_fasta, temp_dir, batch_size=50, fixed_length=False, length_dim=\"_length\"):\n",
    "    \"\"\"\n",
    "    Tests the FlatFASTA class for a single input FASTA file.\n",
    "\n",
    "    Parameters:\n",
    "        input_fasta (str or Path): Path to the input FASTA file.\n",
    "        temp_dir (str or Path): Directory where temporary files will be stored.\n",
    "        batch_size (int): Batch size for the FlatFASTA reader.\n",
    "        fixed_length (bool): Whether to use fixed-length sequences when writing to Zarr.\n",
    "        length_dim (str): Name of the length dimension in the Zarr output.\n",
    "\n",
    "    Raises:\n",
    "        AssertionError: If any test fails.\n",
    "    \"\"\"\n",
    "    temp_dir = Path(temp_dir)\n",
    "    temp_dir.mkdir(parents=True, exist_ok=True)\n",
    "    fasta_out = temp_dir / 'output.fasta.zarr'\n",
    "\n",
    "    true = list(read_fasta(input_fasta).values())\n",
    "\n",
    "    # Test instantiation of the FlatFASTA reader class\n",
    "    flatfasta_reader = FlatFASTA(\n",
    "        name=\"seq\",\n",
    "        fasta=input_fasta,\n",
    "        batch_size=batch_size,\n",
    "    )\n",
    "    assert isinstance(flatfasta_reader, FlatFASTA), \"FlatFASTA reader instantiation failed.\"\n",
    "\n",
    "    # Verify number of sequences\n",
    "    assert flatfasta_reader.n_seqs == len(true), \"Number of sequences is incorrect.\"\n",
    "\n",
    "    # Read in the data using the reader\n",
    "    iterator = flatfasta_reader._reader(pysam.FastaFile(input_fasta))\n",
    "    _read = [seq.decode('utf-8') for seq in iterator]\n",
    "    assert np.array_equal(_read, true), \"FlatFASTA reader failed to read in the correct values.\"\n",
    "\n",
    "    # Test writing to Zarr\n",
    "    flatfasta_reader._write(\n",
    "        fasta_out,\n",
    "        fixed_length=fixed_length,\n",
    "        sequence_dim=\"_sequence\",\n",
    "        overwrite=True,\n",
    "        length_dim=length_dim\n",
    "    )\n",
    "    zarr.consolidate_metadata(fasta_out)\n",
    "\n",
    "    # Test round-trip reading\n",
    "    data = sd.open_zarr(fasta_out)\n",
    "\n",
    "    # Verify that the data is the same\n",
    "    if fixed_length:\n",
    "        seqs = [''.join(row.astype(str)) for row in data[\"seq\"].values]\n",
    "    else:\n",
    "        seqs = data[\"seq\"].values.astype(str)\n",
    "    assert np.array_equal(true, seqs), \"Sequences do not match.\"\n",
    "\n",
    "    # Clean up temporary files\n",
    "    for f in temp_dir.iterdir():\n",
    "        if f.is_dir():\n",
    "            os.system(f'rm -r {f}')\n",
    "        else:\n",
    "            f.unlink()\n",
    "\n",
    "    print(\"All tests passed successfully!\")"
   ]
  },
  {
   "cell_type": "code",
   "execution_count": 183,
   "metadata": {},
   "outputs": [
    {
     "name": "stderr",
     "output_type": "stream",
     "text": [
      "100%|██████████| 7/7 [00:00<00:00, 2427.86it/s]"
     ]
    },
    {
     "name": "stdout",
     "output_type": "stream",
     "text": [
      "All tests passed successfully!\n"
     ]
    },
    {
     "name": "stderr",
     "output_type": "stream",
     "text": [
      "\n"
     ]
    }
   ],
   "source": [
    "# Test FlatFASTA class for variable-length sequences\n",
    "test_FlatFASTA(input_fasta=variable_fasta_in, temp_dir=out, batch_size=50, fixed_length=False)"
   ]
  },
  {
   "cell_type": "code",
   "execution_count": 184,
   "metadata": {},
   "outputs": [
    {
     "name": "stderr",
     "output_type": "stream",
     "text": [
      "100%|██████████| 7/7 [00:00<00:00, 2264.92it/s]"
     ]
    },
    {
     "name": "stdout",
     "output_type": "stream",
     "text": [
      "All tests passed successfully!\n"
     ]
    },
    {
     "name": "stderr",
     "output_type": "stream",
     "text": [
      "\n"
     ]
    }
   ],
   "source": [
    "# Test FlatFASTA class for fixed-length sequences\n",
    "test_FlatFASTA(input_fasta=fixed_fasta_in, temp_dir=out, batch_size=50, fixed_length=20)"
   ]
  },
  {
   "cell_type": "markdown",
   "metadata": {},
   "source": [
    "# `from_flat_files`"
   ]
  },
  {
   "cell_type": "code",
   "execution_count": 185,
   "metadata": {},
   "outputs": [],
   "source": [
    "from seqdata import from_flat_files"
   ]
  },
  {
   "cell_type": "code",
   "execution_count": 193,
   "metadata": {},
   "outputs": [],
   "source": [
    "def test_from_flat_files(\n",
    "    *readers, \n",
    "    names,\n",
    "    true,\n",
    "    temp_dir, \n",
    "    fixed_length=False, \n",
    "    length_dim=None\n",
    "):\n",
    "    \"\"\"\n",
    "    Tests the FlatFASTA class for a single input FASTA file.\n",
    "\n",
    "    Parameters:\n",
    "        input_fasta (str or Path): Path to the input FASTA file.\n",
    "        temp_dir (str or Path): Directory where temporary files will be stored.\n",
    "        batch_size (int): Batch size for the FlatFASTA reader.\n",
    "        fixed_length (bool): Whether to use fixed-length sequences when writing to Zarr.\n",
    "        length_dim (str): Name of the length dimension in the Zarr output.\n",
    "\n",
    "    Raises:\n",
    "        AssertionError: If any test fails.\n",
    "    \"\"\"\n",
    "    temp_dir = Path(temp_dir)\n",
    "    temp_dir.mkdir(parents=True, exist_ok=True)\n",
    "    out = temp_dir / 'output.zarr'\n",
    "\n",
    "    data = from_flat_files(\n",
    "        *readers,\n",
    "        path=out,\n",
    "        sequence_dim=\"_sequence\",\n",
    "        fixed_length=fixed_length,\n",
    "        overwrite=True,\n",
    "        length_dim=length_dim\n",
    "    )\n",
    "    print(data)\n",
    "    # Verify that the data is the same\n",
    "    for i, name in enumerate(names):\n",
    "        if fixed_length:\n",
    "            seqs = [''.join(row.astype(str)) for row in data[name].values]\n",
    "        else:\n",
    "            seqs = data[name].values.astype(str)\n",
    "        print(name)\n",
    "        print(seqs)\n",
    "        print(true[i])\n",
    "        assert np.array_equal(true[i], seqs), \"Sequences do not match.\"\n",
    "\n",
    "    # Clean up temporary files\n",
    "    for f in temp_dir.iterdir():\n",
    "        print(f)\n",
    "        if f.is_dir():\n",
    "            os.system(f'rm -r {f}')\n",
    "        else:\n",
    "            f.unlink()\n",
    "\n",
    "    print(\"All tests passed successfully!\")"
   ]
  },
  {
   "cell_type": "code",
   "execution_count": 187,
   "metadata": {},
   "outputs": [
    {
     "name": "stderr",
     "output_type": "stream",
     "text": [
      "100%|██████████| 7/7 [00:00<00:00, 2818.75it/s]"
     ]
    },
    {
     "name": "stdout",
     "output_type": "stream",
     "text": [
      "seq\n",
      "['GGACTTTGGGAGGACAGATTGTTCGCAAGAACCCATGATCTATCACAGTTCGTCGTATAAAGCCCGCAACCAGTTCAGACGTATAAATGCAGCCTATAGCATCTTCCTCGAACCTCATGG'\n",
      " 'AGCaCgCAGTGAAAATAgGTATACacATTCCCGAGGgGCaACGCATAGCAAAATAACATGGGGCcCATGTTAGTTTAGGTGGGATGACGCCTGTagAAGATTATGCTtAtGGaGGaGACTGGCGAGGCAATGgAGCGAAGCGtCTaGGTGTGAGAGCACAtCTGCTTTtAGCTCATCTCtTCACAAGTcGaTAAAgaGGGGACAGGaaTTTTCGGTACAGATAAAGACGtCGTTGcTCtAAGTGCATTGGTAAGGACTACAcaTGCCtTTtGCgGGcAGCaAaCGTTTAaAAGAtCaTAGAAAaCGCAGCATTCTAAACAaaTGGCTgTCATCGGATcGATGCGACTGGAAAGaAACTACTTCGCGGTCtACGGCGGTCCCACtTGACACCACATCGtGC'\n",
      " 'CGCGAAGAGAGTCCATGCGGAAACAAGTCTATGGCTAGTGATCGCATCGGGCTGTCAGACTTCTTGTGAGACGCCAGATTAAGCCACGCACTCCCATAGTATGGTTGCGC'\n",
      " 'TAAAATACAAACGCGACTCATACAACAGTACTTATGACGCGAGTGGTACTTGCAGTTCCACACATCGAATTCCTGTACATACTCATAGCTAAGACGTCTGCTAAAACACATGGTCTACACTCCCGTAGTCGGGATGGGAGTTTTGGAGCC'\n",
      " 'CTTAGATATCGTTGATAAAGGCGTAGCGGTAGGGATTCGCATACGGCATGCTTATCGAAGGAGCGGAGATCCTGTAAGATCAATAGAGTCGTCTGGATTCTATCCTTCGCAAGCCTGAAGGACTGCCAACATTCGCAGACGTGTCTTATTCGAGCTGCCAGTCTCCGCATCTTCAGATGTTAGCGCTTTTGTAGCAACGAGCGGATATTCGGGATGGTCTGGAAGCCTTATGCACACGAATAATACGGATAGTGGGAGTGAATCAATCCTGAACCACTTTACACTTCCTAAGGTGCTATC'\n",
      " 'TAAATCCGCAGCGAGGCTAGACTCCAGCCGACTACTCTAGTGGTGGAGCGGTAATGATCTCCACAGCCGCGCCCTATTCCTGTCAAGTACTATAAGATGG'\n",
      " 'ATTGAATCCTTTCTCAGACTGAAGTTTTGTCCCTCTAGTCTAGCTTTGCGTGTTATGTTACCCGATGTATTTTCTAATTGTTATCCGAAACGAGTAATGTGTGTAATCACGCGCTGCGCCGACCGACCGAGGCCGACGAACGCCTACTAAGTGGATTTTACGTCACCATGCTGTTTCGGAATGGTCCACCGAAGTGTGGT']\n",
      "['GGACTTTGGGAGGACAGATTGTTCGCAAGAACCCATGATCTATCACAGTTCGTCGTATAAAGCCCGCAACCAGTTCAGACGTATAAATGCAGCCTATAGCATCTTCCTCGAACCTCATGG', 'AGCaCgCAGTGAAAATAgGTATACacATTCCCGAGGgGCaACGCATAGCAAAATAACATGGGGCcCATGTTAGTTTAGGTGGGATGACGCCTGTagAAGATTATGCTtAtGGaGGaGACTGGCGAGGCAATGgAGCGAAGCGtCTaGGTGTGAGAGCACAtCTGCTTTtAGCTCATCTCtTCACAAGTcGaTAAAgaGGGGACAGGaaTTTTCGGTACAGATAAAGACGtCGTTGcTCtAAGTGCATTGGTAAGGACTACAcaTGCCtTTtGCgGGcAGCaAaCGTTTAaAAGAtCaTAGAAAaCGCAGCATTCTAAACAaaTGGCTgTCATCGGATcGATGCGACTGGAAAGaAACTACTTCGCGGTCtACGGCGGTCCCACtTGACACCACATCGtGC', 'CGCGAAGAGAGTCCATGCGGAAACAAGTCTATGGCTAGTGATCGCATCGGGCTGTCAGACTTCTTGTGAGACGCCAGATTAAGCCACGCACTCCCATAGTATGGTTGCGC', 'TAAAATACAAACGCGACTCATACAACAGTACTTATGACGCGAGTGGTACTTGCAGTTCCACACATCGAATTCCTGTACATACTCATAGCTAAGACGTCTGCTAAAACACATGGTCTACACTCCCGTAGTCGGGATGGGAGTTTTGGAGCC', 'CTTAGATATCGTTGATAAAGGCGTAGCGGTAGGGATTCGCATACGGCATGCTTATCGAAGGAGCGGAGATCCTGTAAGATCAATAGAGTCGTCTGGATTCTATCCTTCGCAAGCCTGAAGGACTGCCAACATTCGCAGACGTGTCTTATTCGAGCTGCCAGTCTCCGCATCTTCAGATGTTAGCGCTTTTGTAGCAACGAGCGGATATTCGGGATGGTCTGGAAGCCTTATGCACACGAATAATACGGATAGTGGGAGTGAATCAATCCTGAACCACTTTACACTTCCTAAGGTGCTATC', 'TAAATCCGCAGCGAGGCTAGACTCCAGCCGACTACTCTAGTGGTGGAGCGGTAATGATCTCCACAGCCGCGCCCTATTCCTGTCAAGTACTATAAGATGG', 'ATTGAATCCTTTCTCAGACTGAAGTTTTGTCCCTCTAGTCTAGCTTTGCGTGTTATGTTACCCGATGTATTTTCTAATTGTTATCCGAAACGAGTAATGTGTGTAATCACGCGCTGCGCCGACCGACCGAGGCCGACGAACGCCTACTAAGTGGATTTTACGTCACCATGCTGTTTCGGAATGGTCCACCGAAGTGTGGT']\n",
      "/cellar/users/aklie/projects/ML4GLand/SeqData/tests/data/tmp/output.zarr\n",
      "All tests passed successfully!\n"
     ]
    },
    {
     "name": "stderr",
     "output_type": "stream",
     "text": [
      "\n"
     ]
    }
   ],
   "source": [
    "# Single variable-length FASTA file\n",
    "flat_fasta = FlatFASTA(\n",
    "    fasta=variable_fasta_in,\n",
    "    name=\"seq\",\n",
    "    batch_size=50,\n",
    ")\n",
    "trues = list(read_fasta(variable_fasta_in).values())\n",
    "test_from_flat_files(flat_fasta, true=[trues], names=[\"seq\"], temp_dir=out, fixed_length=False)"
   ]
  },
  {
   "cell_type": "code",
   "execution_count": 188,
   "metadata": {},
   "outputs": [
    {
     "name": "stderr",
     "output_type": "stream",
     "text": [
      "100%|██████████| 7/7 [00:00<00:00, 2049.14it/s]"
     ]
    },
    {
     "name": "stdout",
     "output_type": "stream",
     "text": [
      "seq\n",
      "['GGACTTTGGGAGGACAGATTGTTCGCAAGAACCCATGATCTATCACAGTTCGTCGTATAAAGCCCGCAACCAGTTCAGAC', 'AGCaCgCAGTGAAAATAgGTATACacATTCCCGAGGgGCaACGCATAGCAAAATAACATGGGGCcCATGTTAGTTTAGGT', 'CGCGAAGAGAGTCCATGCGGAAACAAGTCTATGGCTAGTGATCGCATCGGGCTGTCAGACTTCTTGTGAGACGCCAGATT', 'TAAAATACAAACGCGACTCATACAACAGTACTTATGACGCGAGTGGTACTTGCAGTTCCACACATCGAATTCCTGTACAT', 'CTTAGATATCGTTGATAAAGGCGTAGCGGTAGGGATTCGCATACGGCATGCTTATCGAAGGAGCGGAGATCCTGTAAGAT', 'TAAATCCGCAGCGAGGCTAGACTCCAGCCGACTACTCTAGTGGTGGAGCGGTAATGATCTCCACAGCCGCGCCCTATTCC', 'ATTGAATCCTTTCTCAGACTGAAGTTTTGTCCCTCTAGTCTAGCTTTGCGTGTTATGTTACCCGATGTATTTTCTAATTG']\n",
      "['GGACTTTGGGAGGACAGATTGTTCGCAAGAACCCATGATCTATCACAGTTCGTCGTATAAAGCCCGCAACCAGTTCAGAC', 'AGCaCgCAGTGAAAATAgGTATACacATTCCCGAGGgGCaACGCATAGCAAAATAACATGGGGCcCATGTTAGTTTAGGT', 'CGCGAAGAGAGTCCATGCGGAAACAAGTCTATGGCTAGTGATCGCATCGGGCTGTCAGACTTCTTGTGAGACGCCAGATT', 'TAAAATACAAACGCGACTCATACAACAGTACTTATGACGCGAGTGGTACTTGCAGTTCCACACATCGAATTCCTGTACAT', 'CTTAGATATCGTTGATAAAGGCGTAGCGGTAGGGATTCGCATACGGCATGCTTATCGAAGGAGCGGAGATCCTGTAAGAT', 'TAAATCCGCAGCGAGGCTAGACTCCAGCCGACTACTCTAGTGGTGGAGCGGTAATGATCTCCACAGCCGCGCCCTATTCC', 'ATTGAATCCTTTCTCAGACTGAAGTTTTGTCCCTCTAGTCTAGCTTTGCGTGTTATGTTACCCGATGTATTTTCTAATTG']\n",
      "/cellar/users/aklie/projects/ML4GLand/SeqData/tests/data/tmp/output.zarr\n",
      "All tests passed successfully!\n"
     ]
    },
    {
     "name": "stderr",
     "output_type": "stream",
     "text": [
      "\n"
     ]
    }
   ],
   "source": [
    "# Single fixed-length FASTA file\n",
    "flat_fasta = FlatFASTA(\n",
    "    fasta=fixed_fasta_in,\n",
    "    name=\"seq\",\n",
    "    batch_size=50,\n",
    ")\n",
    "trues = list(read_fasta(fixed_fasta_in).values())\n",
    "test_from_flat_files(flat_fasta, true=[trues], names=[\"seq\"], temp_dir=out, fixed_length=80)"
   ]
  },
  {
   "cell_type": "code",
   "execution_count": 189,
   "metadata": {},
   "outputs": [
    {
     "name": "stderr",
     "output_type": "stream",
     "text": [
      "100%|██████████| 7/7 [00:00<00:00, 1794.41it/s]\n",
      "100%|██████████| 7/7 [00:00<00:00, 2126.47it/s]"
     ]
    },
    {
     "name": "stdout",
     "output_type": "stream",
     "text": [
      "seq1\n",
      "['GGACTTTGGGAGGACAGATTGTTCGCAAGAACCCATGATCTATCACAGTTCGTCGTATAAAGCCCGCAACCAGTTCAGACGTATAAATGCAGCCTATAGCATCTTCCTCGAACCTCATGG'\n",
      " 'AGCaCgCAGTGAAAATAgGTATACacATTCCCGAGGgGCaACGCATAGCAAAATAACATGGGGCcCATGTTAGTTTAGGTGGGATGACGCCTGTagAAGATTATGCTtAtGGaGGaGACTGGCGAGGCAATGgAGCGAAGCGtCTaGGTGTGAGAGCACAtCTGCTTTtAGCTCATCTCtTCACAAGTcGaTAAAgaGGGGACAGGaaTTTTCGGTACAGATAAAGACGtCGTTGcTCtAAGTGCATTGGTAAGGACTACAcaTGCCtTTtGCgGGcAGCaAaCGTTTAaAAGAtCaTAGAAAaCGCAGCATTCTAAACAaaTGGCTgTCATCGGATcGATGCGACTGGAAAGaAACTACTTCGCGGTCtACGGCGGTCCCACtTGACACCACATCGtGC'\n",
      " 'CGCGAAGAGAGTCCATGCGGAAACAAGTCTATGGCTAGTGATCGCATCGGGCTGTCAGACTTCTTGTGAGACGCCAGATTAAGCCACGCACTCCCATAGTATGGTTGCGC'\n",
      " 'TAAAATACAAACGCGACTCATACAACAGTACTTATGACGCGAGTGGTACTTGCAGTTCCACACATCGAATTCCTGTACATACTCATAGCTAAGACGTCTGCTAAAACACATGGTCTACACTCCCGTAGTCGGGATGGGAGTTTTGGAGCC'\n",
      " 'CTTAGATATCGTTGATAAAGGCGTAGCGGTAGGGATTCGCATACGGCATGCTTATCGAAGGAGCGGAGATCCTGTAAGATCAATAGAGTCGTCTGGATTCTATCCTTCGCAAGCCTGAAGGACTGCCAACATTCGCAGACGTGTCTTATTCGAGCTGCCAGTCTCCGCATCTTCAGATGTTAGCGCTTTTGTAGCAACGAGCGGATATTCGGGATGGTCTGGAAGCCTTATGCACACGAATAATACGGATAGTGGGAGTGAATCAATCCTGAACCACTTTACACTTCCTAAGGTGCTATC'\n",
      " 'TAAATCCGCAGCGAGGCTAGACTCCAGCCGACTACTCTAGTGGTGGAGCGGTAATGATCTCCACAGCCGCGCCCTATTCCTGTCAAGTACTATAAGATGG'\n",
      " 'ATTGAATCCTTTCTCAGACTGAAGTTTTGTCCCTCTAGTCTAGCTTTGCGTGTTATGTTACCCGATGTATTTTCTAATTGTTATCCGAAACGAGTAATGTGTGTAATCACGCGCTGCGCCGACCGACCGAGGCCGACGAACGCCTACTAAGTGGATTTTACGTCACCATGCTGTTTCGGAATGGTCCACCGAAGTGTGGT']\n",
      "['GGACTTTGGGAGGACAGATTGTTCGCAAGAACCCATGATCTATCACAGTTCGTCGTATAAAGCCCGCAACCAGTTCAGACGTATAAATGCAGCCTATAGCATCTTCCTCGAACCTCATGG', 'AGCaCgCAGTGAAAATAgGTATACacATTCCCGAGGgGCaACGCATAGCAAAATAACATGGGGCcCATGTTAGTTTAGGTGGGATGACGCCTGTagAAGATTATGCTtAtGGaGGaGACTGGCGAGGCAATGgAGCGAAGCGtCTaGGTGTGAGAGCACAtCTGCTTTtAGCTCATCTCtTCACAAGTcGaTAAAgaGGGGACAGGaaTTTTCGGTACAGATAAAGACGtCGTTGcTCtAAGTGCATTGGTAAGGACTACAcaTGCCtTTtGCgGGcAGCaAaCGTTTAaAAGAtCaTAGAAAaCGCAGCATTCTAAACAaaTGGCTgTCATCGGATcGATGCGACTGGAAAGaAACTACTTCGCGGTCtACGGCGGTCCCACtTGACACCACATCGtGC', 'CGCGAAGAGAGTCCATGCGGAAACAAGTCTATGGCTAGTGATCGCATCGGGCTGTCAGACTTCTTGTGAGACGCCAGATTAAGCCACGCACTCCCATAGTATGGTTGCGC', 'TAAAATACAAACGCGACTCATACAACAGTACTTATGACGCGAGTGGTACTTGCAGTTCCACACATCGAATTCCTGTACATACTCATAGCTAAGACGTCTGCTAAAACACATGGTCTACACTCCCGTAGTCGGGATGGGAGTTTTGGAGCC', 'CTTAGATATCGTTGATAAAGGCGTAGCGGTAGGGATTCGCATACGGCATGCTTATCGAAGGAGCGGAGATCCTGTAAGATCAATAGAGTCGTCTGGATTCTATCCTTCGCAAGCCTGAAGGACTGCCAACATTCGCAGACGTGTCTTATTCGAGCTGCCAGTCTCCGCATCTTCAGATGTTAGCGCTTTTGTAGCAACGAGCGGATATTCGGGATGGTCTGGAAGCCTTATGCACACGAATAATACGGATAGTGGGAGTGAATCAATCCTGAACCACTTTACACTTCCTAAGGTGCTATC', 'TAAATCCGCAGCGAGGCTAGACTCCAGCCGACTACTCTAGTGGTGGAGCGGTAATGATCTCCACAGCCGCGCCCTATTCCTGTCAAGTACTATAAGATGG', 'ATTGAATCCTTTCTCAGACTGAAGTTTTGTCCCTCTAGTCTAGCTTTGCGTGTTATGTTACCCGATGTATTTTCTAATTGTTATCCGAAACGAGTAATGTGTGTAATCACGCGCTGCGCCGACCGACCGAGGCCGACGAACGCCTACTAAGTGGATTTTACGTCACCATGCTGTTTCGGAATGGTCCACCGAAGTGTGGT']\n",
      "seq2\n",
      "['GGACTTTGGGAGGACAGATTGTTCGCAAGAACCCATGATCTATCACAGTTCGTCGTATAAAGCCCGCAACCAGTTCAGAC'\n",
      " 'AGCaCgCAGTGAAAATAgGTATACacATTCCCGAGGgGCaACGCATAGCAAAATAACATGGGGCcCATGTTAGTTTAGGT'\n",
      " 'CGCGAAGAGAGTCCATGCGGAAACAAGTCTATGGCTAGTGATCGCATCGGGCTGTCAGACTTCTTGTGAGACGCCAGATT'\n",
      " 'TAAAATACAAACGCGACTCATACAACAGTACTTATGACGCGAGTGGTACTTGCAGTTCCACACATCGAATTCCTGTACAT'\n",
      " 'CTTAGATATCGTTGATAAAGGCGTAGCGGTAGGGATTCGCATACGGCATGCTTATCGAAGGAGCGGAGATCCTGTAAGAT'\n",
      " 'TAAATCCGCAGCGAGGCTAGACTCCAGCCGACTACTCTAGTGGTGGAGCGGTAATGATCTCCACAGCCGCGCCCTATTCC'\n",
      " 'ATTGAATCCTTTCTCAGACTGAAGTTTTGTCCCTCTAGTCTAGCTTTGCGTGTTATGTTACCCGATGTATTTTCTAATTG']\n",
      "['GGACTTTGGGAGGACAGATTGTTCGCAAGAACCCATGATCTATCACAGTTCGTCGTATAAAGCCCGCAACCAGTTCAGAC', 'AGCaCgCAGTGAAAATAgGTATACacATTCCCGAGGgGCaACGCATAGCAAAATAACATGGGGCcCATGTTAGTTTAGGT', 'CGCGAAGAGAGTCCATGCGGAAACAAGTCTATGGCTAGTGATCGCATCGGGCTGTCAGACTTCTTGTGAGACGCCAGATT', 'TAAAATACAAACGCGACTCATACAACAGTACTTATGACGCGAGTGGTACTTGCAGTTCCACACATCGAATTCCTGTACAT', 'CTTAGATATCGTTGATAAAGGCGTAGCGGTAGGGATTCGCATACGGCATGCTTATCGAAGGAGCGGAGATCCTGTAAGAT', 'TAAATCCGCAGCGAGGCTAGACTCCAGCCGACTACTCTAGTGGTGGAGCGGTAATGATCTCCACAGCCGCGCCCTATTCC', 'ATTGAATCCTTTCTCAGACTGAAGTTTTGTCCCTCTAGTCTAGCTTTGCGTGTTATGTTACCCGATGTATTTTCTAATTG']\n",
      "/cellar/users/aklie/projects/ML4GLand/SeqData/tests/data/tmp/output.zarr\n",
      "All tests passed successfully!\n"
     ]
    },
    {
     "name": "stderr",
     "output_type": "stream",
     "text": [
      "\n"
     ]
    }
   ],
   "source": [
    "# Combo of variable and fixed-length FASTA files\n",
    "flat_fasta1 = FlatFASTA(\n",
    "    fasta=variable_fasta_in,\n",
    "    name=\"seq1\",\n",
    "    batch_size=50,\n",
    ")\n",
    "flat_fasta2 = FlatFASTA(\n",
    "    fasta=fixed_fasta_in,\n",
    "    name=\"seq2\",\n",
    "    batch_size=50,\n",
    ")\n",
    "true1 = list(read_fasta(variable_fasta_in).values())\n",
    "true2 = list(read_fasta(fixed_fasta_in).values())\n",
    "test_from_flat_files(flat_fasta1, flat_fasta2, true=[true1, true2], names=[\"seq1\", \"seq2\"], temp_dir=out, fixed_length=False)"
   ]
  },
  {
   "cell_type": "code",
   "execution_count": 190,
   "metadata": {},
   "outputs": [
    {
     "name": "stderr",
     "output_type": "stream",
     "text": [
      "7it [00:00, 342.05it/s]"
     ]
    },
    {
     "name": "stdout",
     "output_type": "stream",
     "text": [
      "seq\n",
      "['GGACTTTGGGAGGACAGATTGTTCGCAAGAACCCATGATCTATCACAGTTCGTCGTATAAAGCCCGCAACCAGTTCAGACGTATAAATGCAGCCTATAGCATCTTCCTCGAACCTCATGG'\n",
      " 'AGCaCgCAGTGAAAATAgGTATACacATTCCCGAGGgGCaACGCATAGCAAAATAACATGGGGCcCATGTTAGTTTAGGTGGGATGACGCCTGTagAAGATTATGCTtAtGGaGGaGACTGGCGAGGCAATGgAGCGAAGCGtCTaGGTGTGAGAGCACAtCTGCTTTtAGCTCATCTCtTCACAAGTcGaTAAAgaGGGGACAGGaaTTTTCGGTACAGATAAAGACGtCGTTGcTCtAAGTGCATTGGTAAGGACTACAcaTGCCtTTtGCgGGcAGCaAaCGTTTAaAAGAtCaTAGAAAaCGCAGCATTCTAAACAaaTGGCTgTCATCGGATcGATGCGACTGGAAAGaAACTACTTCGCGGTCtACGGCGGTCCCACtTGACACCACATCGtGC'\n",
      " 'CGCGAAGAGAGTCCATGCGGAAACAAGTCTATGGCTAGTGATCGCATCGGGCTGTCAGACTTCTTGTGAGACGCCAGATTAAGCCACGCACTCCCATAGTATGGTTGCGC'\n",
      " 'TAAAATACAAACGCGACTCATACAACAGTACTTATGACGCGAGTGGTACTTGCAGTTCCACACATCGAATTCCTGTACATACTCATAGCTAAGACGTCTGCTAAAACACATGGTCTACACTCCCGTAGTCGGGATGGGAGTTTTGGAGCC'\n",
      " 'CTTAGATATCGTTGATAAAGGCGTAGCGGTAGGGATTCGCATACGGCATGCTTATCGAAGGAGCGGAGATCCTGTAAGATCAATAGAGTCGTCTGGATTCTATCCTTCGCAAGCCTGAAGGACTGCCAACATTCGCAGACGTGTCTTATTCGAGCTGCCAGTCTCCGCATCTTCAGATGTTAGCGCTTTTGTAGCAACGAGCGGATATTCGGGATGGTCTGGAAGCCTTATGCACACGAATAATACGGATAGTGGGAGTGAATCAATCCTGAACCACTTTACACTTCCTAAGGTGCTATC'\n",
      " 'TAAATCCGCAGCGAGGCTAGACTCCAGCCGACTACTCTAGTGGTGGAGCGGTAATGATCTCCACAGCCGCGCCCTATTCCTGTCAAGTACTATAAGATGG'\n",
      " 'ATTGAATCCTTTCTCAGACTGAAGTTTTGTCCCTCTAGTCTAGCTTTGCGTGTTATGTTACCCGATGTATTTTCTAATTGTTATCCGAAACGAGTAATGTGTGTAATCACGCGCTGCGCCGACCGACCGAGGCCGACGAACGCCTACTAAGTGGATTTTACGTCACCATGCTGTTTCGGAATGGTCCACCGAAGTGTGGT']\n",
      "['GGACTTTGGGAGGACAGATTGTTCGCAAGAACCCATGATCTATCACAGTTCGTCGTATAAAGCCCGCAACCAGTTCAGACGTATAAATGCAGCCTATAGCATCTTCCTCGAACCTCATGG'\n",
      " 'AGCaCgCAGTGAAAATAgGTATACacATTCCCGAGGgGCaACGCATAGCAAAATAACATGGGGCcCATGTTAGTTTAGGTGGGATGACGCCTGTagAAGATTATGCTtAtGGaGGaGACTGGCGAGGCAATGgAGCGAAGCGtCTaGGTGTGAGAGCACAtCTGCTTTtAGCTCATCTCtTCACAAGTcGaTAAAgaGGGGACAGGaaTTTTCGGTACAGATAAAGACGtCGTTGcTCtAAGTGCATTGGTAAGGACTACAcaTGCCtTTtGCgGGcAGCaAaCGTTTAaAAGAtCaTAGAAAaCGCAGCATTCTAAACAaaTGGCTgTCATCGGATcGATGCGACTGGAAAGaAACTACTTCGCGGTCtACGGCGGTCCCACtTGACACCACATCGtGC'\n",
      " 'CGCGAAGAGAGTCCATGCGGAAACAAGTCTATGGCTAGTGATCGCATCGGGCTGTCAGACTTCTTGTGAGACGCCAGATTAAGCCACGCACTCCCATAGTATGGTTGCGC'\n",
      " 'TAAAATACAAACGCGACTCATACAACAGTACTTATGACGCGAGTGGTACTTGCAGTTCCACACATCGAATTCCTGTACATACTCATAGCTAAGACGTCTGCTAAAACACATGGTCTACACTCCCGTAGTCGGGATGGGAGTTTTGGAGCC'\n",
      " 'CTTAGATATCGTTGATAAAGGCGTAGCGGTAGGGATTCGCATACGGCATGCTTATCGAAGGAGCGGAGATCCTGTAAGATCAATAGAGTCGTCTGGATTCTATCCTTCGCAAGCCTGAAGGACTGCCAACATTCGCAGACGTGTCTTATTCGAGCTGCCAGTCTCCGCATCTTCAGATGTTAGCGCTTTTGTAGCAACGAGCGGATATTCGGGATGGTCTGGAAGCCTTATGCACACGAATAATACGGATAGTGGGAGTGAATCAATCCTGAACCACTTTACACTTCCTAAGGTGCTATC'\n",
      " 'TAAATCCGCAGCGAGGCTAGACTCCAGCCGACTACTCTAGTGGTGGAGCGGTAATGATCTCCACAGCCGCGCCCTATTCCTGTCAAGTACTATAAGATGG'\n",
      " 'ATTGAATCCTTTCTCAGACTGAAGTTTTGTCCCTCTAGTCTAGCTTTGCGTGTTATGTTACCCGATGTATTTTCTAATTGTTATCCGAAACGAGTAATGTGTGTAATCACGCGCTGCGCCGACCGACCGAGGCCGACGAACGCCTACTAAGTGGATTTTACGTCACCATGCTGTTTCGGAATGGTCCACCGAAGTGTGGT']\n",
      "/cellar/users/aklie/projects/ML4GLand/SeqData/tests/data/tmp/output.zarr\n",
      "All tests passed successfully!\n"
     ]
    },
    {
     "name": "stderr",
     "output_type": "stream",
     "text": [
      "\n"
     ]
    }
   ],
   "source": [
    "# Single variable-length TSV file\n",
    "tsv = Table(\n",
    "    tables=variable_tsv_in,\n",
    "    name=\"seq\",\n",
    "    seq_col=\"seq\",\n",
    "    batch_size=50,\n",
    ")\n",
    "true = pd.read_csv(variable_tsv_in, sep=\"\\t\")[\"seq\"].values\n",
    "test_from_flat_files(tsv, true=[true], names=[\"seq\"], temp_dir=out, fixed_length=False)"
   ]
  },
  {
   "cell_type": "code",
   "execution_count": 194,
   "metadata": {},
   "outputs": [
    {
     "name": "stderr",
     "output_type": "stream",
     "text": [
      "0it [00:00, ?it/s]"
     ]
    },
    {
     "name": "stderr",
     "output_type": "stream",
     "text": [
      "7it [00:00, 356.07it/s]"
     ]
    },
    {
     "name": "stdout",
     "output_type": "stream",
     "text": [
      "<xarray.Dataset> Size: 196B\n",
      "Dimensions:  (_sequence: 7, _length: 20)\n",
      "Dimensions without coordinates: _sequence, _length\n",
      "Data variables:\n",
      "    seq      (_sequence, _length) |S1 140B dask.array<chunksize=(7, 20), meta=np.ndarray>\n",
      "    target   (_sequence) float64 56B dask.array<chunksize=(7,), meta=np.ndarray>\n",
      "seq\n",
      "['GGACTTTGGGAGGACAGATT', 'AGCaCgCAGTGAAAATAgGT', 'CGCGAAGAGAGTCCATGCGG', 'TAAAATACAAACGCGACTCA', 'CTTAGATATCGTTGATAAAG', 'TAAATCCGCAGCGAGGCTAG', 'ATTGAATCCTTTCTCAGACT']\n",
      "['GGACTTTGGGAGGACAGATT' 'AGCaCgCAGTGAAAATAgGT' 'CGCGAAGAGAGTCCATGCGG'\n",
      " 'TAAAATACAAACGCGACTCA' 'CTTAGATATCGTTGATAAAG' 'TAAATCCGCAGCGAGGCTAG'\n",
      " 'ATTGAATCCTTTCTCAGACT']\n",
      "/cellar/users/aklie/projects/ML4GLand/SeqData/tests/data/tmp/output.zarr\n",
      "All tests passed successfully!\n"
     ]
    },
    {
     "name": "stderr",
     "output_type": "stream",
     "text": [
      "\n"
     ]
    }
   ],
   "source": [
    "# Single fixed-length TSV file\n",
    "tsv = Table(\n",
    "    tables=fixed_tsv_in,\n",
    "    name=\"seq\",\n",
    "    seq_col=\"seq\",\n",
    "    batch_size=50,\n",
    ")\n",
    "true = pd.read_csv(fixed_tsv_in, sep=\"\\t\")[\"seq\"].values\n",
    "test_from_flat_files(tsv, true=[true], names=[\"seq\"], temp_dir=out, fixed_length=20)"
   ]
  },
  {
   "cell_type": "code",
   "execution_count": 195,
   "metadata": {},
   "outputs": [
    {
     "name": "stderr",
     "output_type": "stream",
     "text": [
      "0it [00:00, ?it/s]"
     ]
    },
    {
     "name": "stderr",
     "output_type": "stream",
     "text": [
      "7it [00:00, 211.04it/s]\n",
      "7it [00:00, 261.55it/s]"
     ]
    },
    {
     "name": "stdout",
     "output_type": "stream",
     "text": [
      "<xarray.Dataset> Size: 168B\n",
      "Dimensions:  (_sequence: 7)\n",
      "Dimensions without coordinates: _sequence\n",
      "Data variables:\n",
      "    seq3     (_sequence) object 56B dask.array<chunksize=(7,), meta=np.ndarray>\n",
      "    seq4     (_sequence) object 56B dask.array<chunksize=(7,), meta=np.ndarray>\n",
      "    target   (_sequence) float64 56B dask.array<chunksize=(7,), meta=np.ndarray>\n",
      "seq3\n",
      "['GGACTTTGGGAGGACAGATTGTTCGCAAGAACCCATGATCTATCACAGTTCGTCGTATAAAGCCCGCAACCAGTTCAGACGTATAAATGCAGCCTATAGCATCTTCCTCGAACCTCATGG'\n",
      " 'AGCaCgCAGTGAAAATAgGTATACacATTCCCGAGGgGCaACGCATAGCAAAATAACATGGGGCcCATGTTAGTTTAGGTGGGATGACGCCTGTagAAGATTATGCTtAtGGaGGaGACTGGCGAGGCAATGgAGCGAAGCGtCTaGGTGTGAGAGCACAtCTGCTTTtAGCTCATCTCtTCACAAGTcGaTAAAgaGGGGACAGGaaTTTTCGGTACAGATAAAGACGtCGTTGcTCtAAGTGCATTGGTAAGGACTACAcaTGCCtTTtGCgGGcAGCaAaCGTTTAaAAGAtCaTAGAAAaCGCAGCATTCTAAACAaaTGGCTgTCATCGGATcGATGCGACTGGAAAGaAACTACTTCGCGGTCtACGGCGGTCCCACtTGACACCACATCGtGC'\n",
      " 'CGCGAAGAGAGTCCATGCGGAAACAAGTCTATGGCTAGTGATCGCATCGGGCTGTCAGACTTCTTGTGAGACGCCAGATTAAGCCACGCACTCCCATAGTATGGTTGCGC'\n",
      " 'TAAAATACAAACGCGACTCATACAACAGTACTTATGACGCGAGTGGTACTTGCAGTTCCACACATCGAATTCCTGTACATACTCATAGCTAAGACGTCTGCTAAAACACATGGTCTACACTCCCGTAGTCGGGATGGGAGTTTTGGAGCC'\n",
      " 'CTTAGATATCGTTGATAAAGGCGTAGCGGTAGGGATTCGCATACGGCATGCTTATCGAAGGAGCGGAGATCCTGTAAGATCAATAGAGTCGTCTGGATTCTATCCTTCGCAAGCCTGAAGGACTGCCAACATTCGCAGACGTGTCTTATTCGAGCTGCCAGTCTCCGCATCTTCAGATGTTAGCGCTTTTGTAGCAACGAGCGGATATTCGGGATGGTCTGGAAGCCTTATGCACACGAATAATACGGATAGTGGGAGTGAATCAATCCTGAACCACTTTACACTTCCTAAGGTGCTATC'\n",
      " 'TAAATCCGCAGCGAGGCTAGACTCCAGCCGACTACTCTAGTGGTGGAGCGGTAATGATCTCCACAGCCGCGCCCTATTCCTGTCAAGTACTATAAGATGG'\n",
      " 'ATTGAATCCTTTCTCAGACTGAAGTTTTGTCCCTCTAGTCTAGCTTTGCGTGTTATGTTACCCGATGTATTTTCTAATTGTTATCCGAAACGAGTAATGTGTGTAATCACGCGCTGCGCCGACCGACCGAGGCCGACGAACGCCTACTAAGTGGATTTTACGTCACCATGCTGTTTCGGAATGGTCCACCGAAGTGTGGT']\n",
      "['GGACTTTGGGAGGACAGATTGTTCGCAAGAACCCATGATCTATCACAGTTCGTCGTATAAAGCCCGCAACCAGTTCAGACGTATAAATGCAGCCTATAGCATCTTCCTCGAACCTCATGG'\n",
      " 'AGCaCgCAGTGAAAATAgGTATACacATTCCCGAGGgGCaACGCATAGCAAAATAACATGGGGCcCATGTTAGTTTAGGTGGGATGACGCCTGTagAAGATTATGCTtAtGGaGGaGACTGGCGAGGCAATGgAGCGAAGCGtCTaGGTGTGAGAGCACAtCTGCTTTtAGCTCATCTCtTCACAAGTcGaTAAAgaGGGGACAGGaaTTTTCGGTACAGATAAAGACGtCGTTGcTCtAAGTGCATTGGTAAGGACTACAcaTGCCtTTtGCgGGcAGCaAaCGTTTAaAAGAtCaTAGAAAaCGCAGCATTCTAAACAaaTGGCTgTCATCGGATcGATGCGACTGGAAAGaAACTACTTCGCGGTCtACGGCGGTCCCACtTGACACCACATCGtGC'\n",
      " 'CGCGAAGAGAGTCCATGCGGAAACAAGTCTATGGCTAGTGATCGCATCGGGCTGTCAGACTTCTTGTGAGACGCCAGATTAAGCCACGCACTCCCATAGTATGGTTGCGC'\n",
      " 'TAAAATACAAACGCGACTCATACAACAGTACTTATGACGCGAGTGGTACTTGCAGTTCCACACATCGAATTCCTGTACATACTCATAGCTAAGACGTCTGCTAAAACACATGGTCTACACTCCCGTAGTCGGGATGGGAGTTTTGGAGCC'\n",
      " 'CTTAGATATCGTTGATAAAGGCGTAGCGGTAGGGATTCGCATACGGCATGCTTATCGAAGGAGCGGAGATCCTGTAAGATCAATAGAGTCGTCTGGATTCTATCCTTCGCAAGCCTGAAGGACTGCCAACATTCGCAGACGTGTCTTATTCGAGCTGCCAGTCTCCGCATCTTCAGATGTTAGCGCTTTTGTAGCAACGAGCGGATATTCGGGATGGTCTGGAAGCCTTATGCACACGAATAATACGGATAGTGGGAGTGAATCAATCCTGAACCACTTTACACTTCCTAAGGTGCTATC'\n",
      " 'TAAATCCGCAGCGAGGCTAGACTCCAGCCGACTACTCTAGTGGTGGAGCGGTAATGATCTCCACAGCCGCGCCCTATTCCTGTCAAGTACTATAAGATGG'\n",
      " 'ATTGAATCCTTTCTCAGACTGAAGTTTTGTCCCTCTAGTCTAGCTTTGCGTGTTATGTTACCCGATGTATTTTCTAATTGTTATCCGAAACGAGTAATGTGTGTAATCACGCGCTGCGCCGACCGACCGAGGCCGACGAACGCCTACTAAGTGGATTTTACGTCACCATGCTGTTTCGGAATGGTCCACCGAAGTGTGGT']\n",
      "seq4\n",
      "['GGACTTTGGGAGGACAGATT' 'AGCaCgCAGTGAAAATAgGT' 'CGCGAAGAGAGTCCATGCGG'\n",
      " 'TAAAATACAAACGCGACTCA' 'CTTAGATATCGTTGATAAAG' 'TAAATCCGCAGCGAGGCTAG'\n",
      " 'ATTGAATCCTTTCTCAGACT']\n",
      "['GGACTTTGGGAGGACAGATT' 'AGCaCgCAGTGAAAATAgGT' 'CGCGAAGAGAGTCCATGCGG'\n",
      " 'TAAAATACAAACGCGACTCA' 'CTTAGATATCGTTGATAAAG' 'TAAATCCGCAGCGAGGCTAG'\n",
      " 'ATTGAATCCTTTCTCAGACT']\n",
      "/cellar/users/aklie/projects/ML4GLand/SeqData/tests/data/tmp/output.zarr\n",
      "All tests passed successfully!\n"
     ]
    },
    {
     "name": "stderr",
     "output_type": "stream",
     "text": [
      "\n"
     ]
    }
   ],
   "source": [
    "# Combo of variable and fixed-length TSV files\n",
    "tsv1 = Table(\n",
    "    tables=variable_tsv_in,\n",
    "    name=\"seq3\",\n",
    "    seq_col=\"seq\",\n",
    "    batch_size=50,\n",
    ")\n",
    "tsv2 = Table(\n",
    "    tables=fixed_tsv_in,\n",
    "    name=\"seq4\",\n",
    "    seq_col=\"seq\",\n",
    "    batch_size=50,\n",
    ")\n",
    "true1 = pd.read_csv(variable_tsv_in, sep=\"\\t\")[\"seq\"].values\n",
    "true2 = pd.read_csv(fixed_tsv_in, sep=\"\\t\")[\"seq\"].values\n",
    "test_from_flat_files(tsv1, tsv2, true=[true1, true2], names=[\"seq3\", \"seq4\"], temp_dir=out, fixed_length=False)"
   ]
  },
  {
   "cell_type": "code",
   "execution_count": 177,
   "metadata": {},
   "outputs": [
    {
     "name": "stderr",
     "output_type": "stream",
     "text": [
      "7it [00:00, 346.20it/s]\n",
      "7it [00:00, 344.25it/s]\n",
      "100%|██████████| 7/7 [00:00<00:00, 3032.76it/s]\n",
      "100%|██████████| 7/7 [00:00<00:00, 2346.37it/s]\n"
     ]
    },
    {
     "name": "stdout",
     "output_type": "stream",
     "text": [
      "seq3\n",
      "['CCCCCACTAACAGCAAGGTAGTTCTTATTTCCTTTAGGAACCCCCCGCCAAAAGAGTGCTTAGATCCTTAGGTGCGGGCAGAATACAATCATCCTGTGCCCTGCCCATTCCCCCACTGAC'\n",
      " 'ACTCGGgGCCaTGTAGcGTCCGTCGTTGTATATTCTGTCGGGGTCATTaAAGCCTCATCGTGAACGaATCACCATTCCCCGCCCGGTTCTTCAcGCTGCtACACACCGCCaTGGGAGCGtTGTGTTgTGGAgTATGtAGAGaGGAcAGTCcTTGAGTGAcAACCCACTGTCGaAGGGTCCGCcCCAGtaAAAGATACTAAGCCcTGCTACGCTCGCCAgCGTCtTTtGGCAcGCTcCcAAAAACGCtGCgCTgTGaaCgTGTATGCAAACCCACGGGCTAACCGGACGTTAtCcTCAACgaTTTGTCACtgGTCcAAaGAAGACCGACACGTCCTGtGATGTGCcTAGTCcAATATcTaTtGCGAGTAGGATCGTTGATGTGGGACAtGAACTaCACGCC'\n",
      " 'CCCATGAGAGGAAGGTCACAGGCGGAATAGGTATTTTAGTATAACTAAATTCAGATACGACGGTCATACAGATAATGGTCCAGGGTGCGTTAGATCCTACGATCTCCACG'\n",
      " 'GTGCGAAGGAGATTCAGGCCAAACGATAACCCTTTCTCGAGATGGACTGCAAGTCCATTTGCGGTTGTGGTCTTGTGGTCGTATAGAAGCCTTCCTCCTCAGCCAACTTCTTATACCAGGATTCCTTTGTAGGGATCGTTTCTATATAAG'\n",
      " 'TTTAGCCTGCTTGCCGTGGTTATCGGTAGGCGGATCCGAATCTCGGCGATCTTAAGACTACGCTCGACGGTTTGACATTC'\n",
      " 'NNNNNCCTNCTTGNNNTGNTNANCNGTAGGNNNANNNGAATCTCNNCGNNNTNNNGACTNCGCNNGACGGNTNNACNNTC'\n",
      " 'TTATGACCTTTGTATTCTTACCCTCTTCTGCTCCACCCGTAGCAAGTCTCTACCTGTTGTTCGAATCGGGGCGATCGACGTCACCATGGATCAAGAGAATGTCCAATCGGACCTTTCGCTAGACCCTTCCAGCGGTCCGACGGGTCGAATTAGCTACGTCCGACTAGTTGTCCTATGTCGGGGAATTAAGCTTAACGAGG']\n",
      "['CCCCCACTAACAGCAAGGTAGTTCTTATTTCCTTTAGGAACCCCCCGCCAAAAGAGTGCTTAGATCCTTAGGTGCGGGCAGAATACAATCATCCTGTGCCCTGCCCATTCCCCCACTGAC'\n",
      " 'ACTCGGgGCCaTGTAGcGTCCGTCGTTGTATATTCTGTCGGGGTCATTaAAGCCTCATCGTGAACGaATCACCATTCCCCGCCCGGTTCTTCAcGCTGCtACACACCGCCaTGGGAGCGtTGTGTTgTGGAgTATGtAGAGaGGAcAGTCcTTGAGTGAcAACCCACTGTCGaAGGGTCCGCcCCAGtaAAAGATACTAAGCCcTGCTACGCTCGCCAgCGTCtTTtGGCAcGCTcCcAAAAACGCtGCgCTgTGaaCgTGTATGCAAACCCACGGGCTAACCGGACGTTAtCcTCAACgaTTTGTCACtgGTCcAAaGAAGACCGACACGTCCTGtGATGTGCcTAGTCcAATATcTaTtGCGAGTAGGATCGTTGATGTGGGACAtGAACTaCACGCC'\n",
      " 'CCCATGAGAGGAAGGTCACAGGCGGAATAGGTATTTTAGTATAACTAAATTCAGATACGACGGTCATACAGATAATGGTCCAGGGTGCGTTAGATCCTACGATCTCCACG'\n",
      " 'GTGCGAAGGAGATTCAGGCCAAACGATAACCCTTTCTCGAGATGGACTGCAAGTCCATTTGCGGTTGTGGTCTTGTGGTCGTATAGAAGCCTTCCTCCTCAGCCAACTTCTTATACCAGGATTCCTTTGTAGGGATCGTTTCTATATAAG'\n",
      " 'TTTAGCCTGCTTGCCGTGGTTATCGGTAGGCGGATCCGAATCTCGGCGATCTTAAGACTACGCTCGACGGTTTGACATTC'\n",
      " 'NNNNNCCTNCTTGNNNTGNTNANCNGTAGGNNNANNNGAATCTCNNCGNNNTNNNGACTNCGCNNGACGGNTNNACNNTC'\n",
      " 'TTATGACCTTTGTATTCTTACCCTCTTCTGCTCCACCCGTAGCAAGTCTCTACCTGTTGTTCGAATCGGGGCGATCGACGTCACCATGGATCAAGAGAATGTCCAATCGGACCTTTCGCTAGACCCTTCCAGCGGTCCGACGGGTCGAATTAGCTACGTCCGACTAGTTGTCCTATGTCGGGGAATTAAGCTTAACGAGG']\n",
      "seq4\n",
      "['CCCCCACTAACAGCAAGGTA' 'ACTCGGgGCCaTGTAGcGTC' 'CCCATGAGAGGAAGGTCACA'\n",
      " 'GTGCGAAGGAGATTCAGGCC' 'TTTAGCCTGCTTGCCGTGGT' 'NNNNNCCTNCTTGNNNTGNT'\n",
      " 'TTATGACCTTTGTATTCTTA']\n",
      "['CCCCCACTAACAGCAAGGTA' 'ACTCGGgGCCaTGTAGcGTC' 'CCCATGAGAGGAAGGTCACA'\n",
      " 'GTGCGAAGGAGATTCAGGCC' 'TTTAGCCTGCTTGCCGTGGT' 'NNNNNCCTNCTTGNNNTGNT'\n",
      " 'TTATGACCTTTGTATTCTTA']\n",
      "seq1\n",
      "['CCCCCACTAACAGCAAGGTAGTTCTTATTTCCTTTAGGAACCCCCCGCCAAAAGAGTGCTTAGATCCTTAGGTGCGGGCAGAATACAATCATCCTGTGCCCTGCCCATTCCCCCACTGAC'\n",
      " 'ACTCGGgGCCaTGTAGcGTCCGTCGTTGTATATTCTGTCGGGGTCATTaAAGCCTCATCGTGAACGaATCACCATTCCCCGCCCGGTTCTTCAcGCTGCtACACACCGCCaTGGGAGCGtTGTGTTgTGGAgTATGtAGAGaGGAcAGTCcTTGAGTGAcAACCCACTGTCGaAGGGTCCGCcCCAGtaAAAGATACTAAGCCcTGCTACGCTCGCCAgCGTCtTTtGGCAcGCTcCcAAAAACGCtGCgCTgTGaaCgTGTATGCAAACCCACGGGCTAACCGGACGTTAtCcTCAACgaTTTGTCACtgGTCcAAaGAAGACCGACACGTCCTGtGATGTGCcTAGTCcAATATcTaTtGCGAGTAGGATCGTTGATGTGGGACAtGAACTaCACGCC'\n",
      " 'CCCATGAGAGGAAGGTCACAGGCGGAATAGGTATTTTAGTATAACTAAATTCAGATACGACGGTCATACAGATAATGGTCCAGGGTGCGTTAGATCCTACGATCTCCACG'\n",
      " 'GTGCGAAGGAGATTCAGGCCAAACGATAACCCTTTCTCGAGATGGACTGCAAGTCCATTTGCGGTTGTGGTCTTGTGGTCGTATAGAAGCCTTCCTCCTCAGCCAACTTCTTATACCAGGATTCCTTTGTAGGGATCGTTTCTATATAAG'\n",
      " 'TTTAGCCTGCTTGCCGTGGTTATCGGTAGGCGGATCCGAATCTCGGCGATCTTAAGACTACGCTCGACGGTTTGACATTC'\n",
      " 'NNNNNCCTNCTTGNNNTGNTNANCNGTAGGNNNANNNGAATCTCNNCGNNNTNNNGACTNCGCNNGACGGNTNNACNNTC'\n",
      " 'TTATGACCTTTGTATTCTTACCCTCTTCTGCTCCACCCGTAGCAAGTCTCTACCTGTTGTTCGAATCGGGGCGATCGACGTCACCATGGATCAAGAGAATGTCCAATCGGACCTTTCGCTAGACCCTTCCAGCGGTCCGACGGGTCGAATTAGCTACGTCCGACTAGTTGTCCTATGTCGGGGAATTAAGCTTAACGAGG']\n",
      "['CCCCCACTAACAGCAAGGTAGTTCTTATTTCCTTTAGGAACCCCCCGCCAAAAGAGTGCTTAGATCCTTAGGTGCGGGCAGAATACAATCATCCTGTGCCCTGCCCATTCCCCCACTGAC', 'ACTCGGgGCCaTGTAGcGTCCGTCGTTGTATATTCTGTCGGGGTCATTaAAGCCTCATCGTGAACGaATCACCATTCCCCGCCCGGTTCTTCAcGCTGCtACACACCGCCaTGGGAGCGtTGTGTTgTGGAgTATGtAGAGaGGAcAGTCcTTGAGTGAcAACCCACTGTCGaAGGGTCCGCcCCAGtaAAAGATACTAAGCCcTGCTACGCTCGCCAgCGTCtTTtGGCAcGCTcCcAAAAACGCtGCgCTgTGaaCgTGTATGCAAACCCACGGGCTAACCGGACGTTAtCcTCAACgaTTTGTCACtgGTCcAAaGAAGACCGACACGTCCTGtGATGTGCcTAGTCcAATATcTaTtGCGAGTAGGATCGTTGATGTGGGACAtGAACTaCACGCC', 'CCCATGAGAGGAAGGTCACAGGCGGAATAGGTATTTTAGTATAACTAAATTCAGATACGACGGTCATACAGATAATGGTCCAGGGTGCGTTAGATCCTACGATCTCCACG', 'GTGCGAAGGAGATTCAGGCCAAACGATAACCCTTTCTCGAGATGGACTGCAAGTCCATTTGCGGTTGTGGTCTTGTGGTCGTATAGAAGCCTTCCTCCTCAGCCAACTTCTTATACCAGGATTCCTTTGTAGGGATCGTTTCTATATAAG', 'TTTAGCCTGCTTGCCGTGGTTATCGGTAGGCGGATCCGAATCTCGGCGATCTTAAGACTACGCTCGACGGTTTGACATTC', 'NNNNNCCTNCTTGNNNTGNTNANCNGTAGGNNNANNNGAATCTCNNCGNNNTNNNGACTNCGCNNGACGGNTNNACNNTC', 'TTATGACCTTTGTATTCTTACCCTCTTCTGCTCCACCCGTAGCAAGTCTCTACCTGTTGTTCGAATCGGGGCGATCGACGTCACCATGGATCAAGAGAATGTCCAATCGGACCTTTCGCTAGACCCTTCCAGCGGTCCGACGGGTCGAATTAGCTACGTCCGACTAGTTGTCCTATGTCGGGGAATTAAGCTTAACGAGG']\n",
      "seq2\n",
      "['CCCCCACTAACAGCAAGGTAGTTCTTATTTCCTTTAGGAACCCCCCGCCAAAAGAGTGCTTAGATCCTTAGGTGCGGGCA'\n",
      " 'ACTCGGgGCCaTGTAGcGTCCGTCGTTGTATATTCTGTCGGGGTCATTaAAGCCTCATCGTGAACGaATCACCATTCCCC'\n",
      " 'CCCATGAGAGGAAGGTCACAGGCGGAATAGGTATTTTAGTATAACTAAATTCAGATACGACGGTCATACAGATAATGGTC'\n",
      " 'GTGCGAAGGAGATTCAGGCCAAACGATAACCCTTTCTCGAGATGGACTGCAAGTCCATTTGCGGTTGTGGTCTTGTGGTC'\n",
      " 'TTTAGCCTGCTTGCCGTGGTTATCGGTAGGCGGATCCGAATCTCGGCGATCTTAAGACTACGCTCGACGGTTTGACATTC'\n",
      " 'NNNNNCCTNCTTGNNNTGNTNANCNGTAGGNNNANNNGAATCTCNNCGNNNTNNNGACTNCGCNNGACGGNTNNACNNTC'\n",
      " 'TTATGACCTTTGTATTCTTACCCTCTTCTGCTCCACCCGTAGCAAGTCTCTACCTGTTGTTCGAATCGGGGCGATCGACG']\n",
      "['CCCCCACTAACAGCAAGGTAGTTCTTATTTCCTTTAGGAACCCCCCGCCAAAAGAGTGCTTAGATCCTTAGGTGCGGGCA', 'ACTCGGgGCCaTGTAGcGTCCGTCGTTGTATATTCTGTCGGGGTCATTaAAGCCTCATCGTGAACGaATCACCATTCCCC', 'CCCATGAGAGGAAGGTCACAGGCGGAATAGGTATTTTAGTATAACTAAATTCAGATACGACGGTCATACAGATAATGGTC', 'GTGCGAAGGAGATTCAGGCCAAACGATAACCCTTTCTCGAGATGGACTGCAAGTCCATTTGCGGTTGTGGTCTTGTGGTC', 'TTTAGCCTGCTTGCCGTGGTTATCGGTAGGCGGATCCGAATCTCGGCGATCTTAAGACTACGCTCGACGGTTTGACATTC', 'NNNNNCCTNCTTGNNNTGNTNANCNGTAGGNNNANNNGAATCTCNNCGNNNTNNNGACTNCGCNNGACGGNTNNACNNTC', 'TTATGACCTTTGTATTCTTACCCTCTTCTGCTCCACCCGTAGCAAGTCTCTACCTGTTGTTCGAATCGGGGCGATCGACG']\n",
      "/cellar/users/aklie/projects/ML4GLand/SeqData/tests/data/tmp/output.zarr\n",
      "All tests passed successfully!\n",
      "All tests passed successfully!\n"
     ]
    }
   ],
   "source": [
    "true = [pd.read_csv(variable_tsv_in, sep=\"\\t\")[\"seq\"].values, pd.read_csv(fixed_tsv_in, sep=\"\\t\")[\"seq\"].values, list(read_fasta(variable_fasta_in).values()), list(read_fasta(fixed_fasta_in).values())]\n",
    "test_from_flat_files(tsv1, tsv2, flat_fasta1, flat_fasta2, true=true, names=[\"seq3\", \"seq4\", \"seq1\", \"seq2\"], temp_dir=out, fixed_length=False)"
   ]
  },
  {
   "cell_type": "markdown",
   "metadata": {},
   "source": [
    "# `read_table`"
   ]
  },
  {
   "cell_type": "code",
   "execution_count": 196,
   "metadata": {},
   "outputs": [],
   "source": [
    "from seqdata import read_table"
   ]
  },
  {
   "cell_type": "code",
   "execution_count": 197,
   "metadata": {},
   "outputs": [
    {
     "name": "stderr",
     "output_type": "stream",
     "text": [
      "14it [00:00, 425.69it/s]\n"
     ]
    }
   ],
   "source": [
    "temp_dir = Path(out)\n",
    "temp_dir.mkdir(parents=True, exist_ok=True)\n",
    "out = temp_dir / 'output.zarr'\n",
    "\n",
    "sdata = read_table(\n",
    "    tables=[variable_tsv_in, fixed_tsv_in],\n",
    "    out=out,\n",
    "    seq_col=\"seq\",\n",
    "    name=\"seq\",\n",
    "    fixed_length=False,\n",
    "    batch_size=50,\n",
    "    overwrite=True,\n",
    ")\n",
    "\n",
    "true = pd.concat([pd.read_csv(tsv_file, sep=\"\\t\") for tsv_file in [variable_tsv_in, fixed_tsv_in]], ignore_index=True)[\"seq\"].values\n",
    "seqs = sdata[\"seq\"].values.astype(str)\n",
    "assert np.array_equal(true, seqs), \"Sequences do not match.\"\n",
    "\n",
    "# Clean up temporary files\n",
    "for f in temp_dir.iterdir():\n",
    "    if f.is_dir():\n",
    "        os.system(f'rm -r {f}')\n",
    "    else:\n",
    "        f.unlink()"
   ]
  },
  {
   "cell_type": "code",
   "execution_count": 198,
   "metadata": {},
   "outputs": [
    {
     "data": {
      "text/html": [
       "<div><svg style=\"position: absolute; width: 0; height: 0; overflow: hidden\">\n",
       "<defs>\n",
       "<symbol id=\"icon-database\" viewBox=\"0 0 32 32\">\n",
       "<path d=\"M16 0c-8.837 0-16 2.239-16 5v4c0 2.761 7.163 5 16 5s16-2.239 16-5v-4c0-2.761-7.163-5-16-5z\"></path>\n",
       "<path d=\"M16 17c-8.837 0-16-2.239-16-5v6c0 2.761 7.163 5 16 5s16-2.239 16-5v-6c0 2.761-7.163 5-16 5z\"></path>\n",
       "<path d=\"M16 26c-8.837 0-16-2.239-16-5v6c0 2.761 7.163 5 16 5s16-2.239 16-5v-6c0 2.761-7.163 5-16 5z\"></path>\n",
       "</symbol>\n",
       "<symbol id=\"icon-file-text2\" viewBox=\"0 0 32 32\">\n",
       "<path d=\"M28.681 7.159c-0.694-0.947-1.662-2.053-2.724-3.116s-2.169-2.030-3.116-2.724c-1.612-1.182-2.393-1.319-2.841-1.319h-15.5c-1.378 0-2.5 1.121-2.5 2.5v27c0 1.378 1.122 2.5 2.5 2.5h23c1.378 0 2.5-1.122 2.5-2.5v-19.5c0-0.448-0.137-1.23-1.319-2.841zM24.543 5.457c0.959 0.959 1.712 1.825 2.268 2.543h-4.811v-4.811c0.718 0.556 1.584 1.309 2.543 2.268zM28 29.5c0 0.271-0.229 0.5-0.5 0.5h-23c-0.271 0-0.5-0.229-0.5-0.5v-27c0-0.271 0.229-0.5 0.5-0.5 0 0 15.499-0 15.5 0v7c0 0.552 0.448 1 1 1h7v19.5z\"></path>\n",
       "<path d=\"M23 26h-14c-0.552 0-1-0.448-1-1s0.448-1 1-1h14c0.552 0 1 0.448 1 1s-0.448 1-1 1z\"></path>\n",
       "<path d=\"M23 22h-14c-0.552 0-1-0.448-1-1s0.448-1 1-1h14c0.552 0 1 0.448 1 1s-0.448 1-1 1z\"></path>\n",
       "<path d=\"M23 18h-14c-0.552 0-1-0.448-1-1s0.448-1 1-1h14c0.552 0 1 0.448 1 1s-0.448 1-1 1z\"></path>\n",
       "</symbol>\n",
       "</defs>\n",
       "</svg>\n",
       "<style>/* CSS stylesheet for displaying xarray objects in jupyterlab.\n",
       " *\n",
       " */\n",
       "\n",
       ":root {\n",
       "  --xr-font-color0: var(--jp-content-font-color0, rgba(0, 0, 0, 1));\n",
       "  --xr-font-color2: var(--jp-content-font-color2, rgba(0, 0, 0, 0.54));\n",
       "  --xr-font-color3: var(--jp-content-font-color3, rgba(0, 0, 0, 0.38));\n",
       "  --xr-border-color: var(--jp-border-color2, #e0e0e0);\n",
       "  --xr-disabled-color: var(--jp-layout-color3, #bdbdbd);\n",
       "  --xr-background-color: var(--jp-layout-color0, white);\n",
       "  --xr-background-color-row-even: var(--jp-layout-color1, white);\n",
       "  --xr-background-color-row-odd: var(--jp-layout-color2, #eeeeee);\n",
       "}\n",
       "\n",
       "html[theme=dark],\n",
       "html[data-theme=dark],\n",
       "body[data-theme=dark],\n",
       "body.vscode-dark {\n",
       "  --xr-font-color0: rgba(255, 255, 255, 1);\n",
       "  --xr-font-color2: rgba(255, 255, 255, 0.54);\n",
       "  --xr-font-color3: rgba(255, 255, 255, 0.38);\n",
       "  --xr-border-color: #1F1F1F;\n",
       "  --xr-disabled-color: #515151;\n",
       "  --xr-background-color: #111111;\n",
       "  --xr-background-color-row-even: #111111;\n",
       "  --xr-background-color-row-odd: #313131;\n",
       "}\n",
       "\n",
       ".xr-wrap {\n",
       "  display: block !important;\n",
       "  min-width: 300px;\n",
       "  max-width: 700px;\n",
       "}\n",
       "\n",
       ".xr-text-repr-fallback {\n",
       "  /* fallback to plain text repr when CSS is not injected (untrusted notebook) */\n",
       "  display: none;\n",
       "}\n",
       "\n",
       ".xr-header {\n",
       "  padding-top: 6px;\n",
       "  padding-bottom: 6px;\n",
       "  margin-bottom: 4px;\n",
       "  border-bottom: solid 1px var(--xr-border-color);\n",
       "}\n",
       "\n",
       ".xr-header > div,\n",
       ".xr-header > ul {\n",
       "  display: inline;\n",
       "  margin-top: 0;\n",
       "  margin-bottom: 0;\n",
       "}\n",
       "\n",
       ".xr-obj-type,\n",
       ".xr-array-name {\n",
       "  margin-left: 2px;\n",
       "  margin-right: 10px;\n",
       "}\n",
       "\n",
       ".xr-obj-type {\n",
       "  color: var(--xr-font-color2);\n",
       "}\n",
       "\n",
       ".xr-sections {\n",
       "  padding-left: 0 !important;\n",
       "  display: grid;\n",
       "  grid-template-columns: 150px auto auto 1fr 0 20px 0 20px;\n",
       "}\n",
       "\n",
       ".xr-section-item {\n",
       "  display: contents;\n",
       "}\n",
       "\n",
       ".xr-section-item input {\n",
       "  display: inline-block;\n",
       "  opacity: 0;\n",
       "}\n",
       "\n",
       ".xr-section-item input + label {\n",
       "  color: var(--xr-disabled-color);\n",
       "}\n",
       "\n",
       ".xr-section-item input:enabled + label {\n",
       "  cursor: pointer;\n",
       "  color: var(--xr-font-color2);\n",
       "}\n",
       "\n",
       ".xr-section-item input:focus + label {\n",
       "  border: 2px solid var(--xr-font-color0);\n",
       "}\n",
       "\n",
       ".xr-section-item input:enabled + label:hover {\n",
       "  color: var(--xr-font-color0);\n",
       "}\n",
       "\n",
       ".xr-section-summary {\n",
       "  grid-column: 1;\n",
       "  color: var(--xr-font-color2);\n",
       "  font-weight: 500;\n",
       "}\n",
       "\n",
       ".xr-section-summary > span {\n",
       "  display: inline-block;\n",
       "  padding-left: 0.5em;\n",
       "}\n",
       "\n",
       ".xr-section-summary-in:disabled + label {\n",
       "  color: var(--xr-font-color2);\n",
       "}\n",
       "\n",
       ".xr-section-summary-in + label:before {\n",
       "  display: inline-block;\n",
       "  content: '►';\n",
       "  font-size: 11px;\n",
       "  width: 15px;\n",
       "  text-align: center;\n",
       "}\n",
       "\n",
       ".xr-section-summary-in:disabled + label:before {\n",
       "  color: var(--xr-disabled-color);\n",
       "}\n",
       "\n",
       ".xr-section-summary-in:checked + label:before {\n",
       "  content: '▼';\n",
       "}\n",
       "\n",
       ".xr-section-summary-in:checked + label > span {\n",
       "  display: none;\n",
       "}\n",
       "\n",
       ".xr-section-summary,\n",
       ".xr-section-inline-details {\n",
       "  padding-top: 4px;\n",
       "  padding-bottom: 4px;\n",
       "}\n",
       "\n",
       ".xr-section-inline-details {\n",
       "  grid-column: 2 / -1;\n",
       "}\n",
       "\n",
       ".xr-section-details {\n",
       "  display: none;\n",
       "  grid-column: 1 / -1;\n",
       "  margin-bottom: 5px;\n",
       "}\n",
       "\n",
       ".xr-section-summary-in:checked ~ .xr-section-details {\n",
       "  display: contents;\n",
       "}\n",
       "\n",
       ".xr-array-wrap {\n",
       "  grid-column: 1 / -1;\n",
       "  display: grid;\n",
       "  grid-template-columns: 20px auto;\n",
       "}\n",
       "\n",
       ".xr-array-wrap > label {\n",
       "  grid-column: 1;\n",
       "  vertical-align: top;\n",
       "}\n",
       "\n",
       ".xr-preview {\n",
       "  color: var(--xr-font-color3);\n",
       "}\n",
       "\n",
       ".xr-array-preview,\n",
       ".xr-array-data {\n",
       "  padding: 0 5px !important;\n",
       "  grid-column: 2;\n",
       "}\n",
       "\n",
       ".xr-array-data,\n",
       ".xr-array-in:checked ~ .xr-array-preview {\n",
       "  display: none;\n",
       "}\n",
       "\n",
       ".xr-array-in:checked ~ .xr-array-data,\n",
       ".xr-array-preview {\n",
       "  display: inline-block;\n",
       "}\n",
       "\n",
       ".xr-dim-list {\n",
       "  display: inline-block !important;\n",
       "  list-style: none;\n",
       "  padding: 0 !important;\n",
       "  margin: 0;\n",
       "}\n",
       "\n",
       ".xr-dim-list li {\n",
       "  display: inline-block;\n",
       "  padding: 0;\n",
       "  margin: 0;\n",
       "}\n",
       "\n",
       ".xr-dim-list:before {\n",
       "  content: '(';\n",
       "}\n",
       "\n",
       ".xr-dim-list:after {\n",
       "  content: ')';\n",
       "}\n",
       "\n",
       ".xr-dim-list li:not(:last-child):after {\n",
       "  content: ',';\n",
       "  padding-right: 5px;\n",
       "}\n",
       "\n",
       ".xr-has-index {\n",
       "  font-weight: bold;\n",
       "}\n",
       "\n",
       ".xr-var-list,\n",
       ".xr-var-item {\n",
       "  display: contents;\n",
       "}\n",
       "\n",
       ".xr-var-item > div,\n",
       ".xr-var-item label,\n",
       ".xr-var-item > .xr-var-name span {\n",
       "  background-color: var(--xr-background-color-row-even);\n",
       "  margin-bottom: 0;\n",
       "}\n",
       "\n",
       ".xr-var-item > .xr-var-name:hover span {\n",
       "  padding-right: 5px;\n",
       "}\n",
       "\n",
       ".xr-var-list > li:nth-child(odd) > div,\n",
       ".xr-var-list > li:nth-child(odd) > label,\n",
       ".xr-var-list > li:nth-child(odd) > .xr-var-name span {\n",
       "  background-color: var(--xr-background-color-row-odd);\n",
       "}\n",
       "\n",
       ".xr-var-name {\n",
       "  grid-column: 1;\n",
       "}\n",
       "\n",
       ".xr-var-dims {\n",
       "  grid-column: 2;\n",
       "}\n",
       "\n",
       ".xr-var-dtype {\n",
       "  grid-column: 3;\n",
       "  text-align: right;\n",
       "  color: var(--xr-font-color2);\n",
       "}\n",
       "\n",
       ".xr-var-preview {\n",
       "  grid-column: 4;\n",
       "}\n",
       "\n",
       ".xr-index-preview {\n",
       "  grid-column: 2 / 5;\n",
       "  color: var(--xr-font-color2);\n",
       "}\n",
       "\n",
       ".xr-var-name,\n",
       ".xr-var-dims,\n",
       ".xr-var-dtype,\n",
       ".xr-preview,\n",
       ".xr-attrs dt {\n",
       "  white-space: nowrap;\n",
       "  overflow: hidden;\n",
       "  text-overflow: ellipsis;\n",
       "  padding-right: 10px;\n",
       "}\n",
       "\n",
       ".xr-var-name:hover,\n",
       ".xr-var-dims:hover,\n",
       ".xr-var-dtype:hover,\n",
       ".xr-attrs dt:hover {\n",
       "  overflow: visible;\n",
       "  width: auto;\n",
       "  z-index: 1;\n",
       "}\n",
       "\n",
       ".xr-var-attrs,\n",
       ".xr-var-data,\n",
       ".xr-index-data {\n",
       "  display: none;\n",
       "  background-color: var(--xr-background-color) !important;\n",
       "  padding-bottom: 5px !important;\n",
       "}\n",
       "\n",
       ".xr-var-attrs-in:checked ~ .xr-var-attrs,\n",
       ".xr-var-data-in:checked ~ .xr-var-data,\n",
       ".xr-index-data-in:checked ~ .xr-index-data {\n",
       "  display: block;\n",
       "}\n",
       "\n",
       ".xr-var-data > table {\n",
       "  float: right;\n",
       "}\n",
       "\n",
       ".xr-var-name span,\n",
       ".xr-var-data,\n",
       ".xr-index-name div,\n",
       ".xr-index-data,\n",
       ".xr-attrs {\n",
       "  padding-left: 25px !important;\n",
       "}\n",
       "\n",
       ".xr-attrs,\n",
       ".xr-var-attrs,\n",
       ".xr-var-data,\n",
       ".xr-index-data {\n",
       "  grid-column: 1 / -1;\n",
       "}\n",
       "\n",
       "dl.xr-attrs {\n",
       "  padding: 0;\n",
       "  margin: 0;\n",
       "  display: grid;\n",
       "  grid-template-columns: 125px auto;\n",
       "}\n",
       "\n",
       ".xr-attrs dt,\n",
       ".xr-attrs dd {\n",
       "  padding: 0;\n",
       "  margin: 0;\n",
       "  float: left;\n",
       "  padding-right: 10px;\n",
       "  width: auto;\n",
       "}\n",
       "\n",
       ".xr-attrs dt {\n",
       "  font-weight: normal;\n",
       "  grid-column: 1;\n",
       "}\n",
       "\n",
       ".xr-attrs dt:hover span {\n",
       "  display: inline-block;\n",
       "  background: var(--xr-background-color);\n",
       "  padding-right: 10px;\n",
       "}\n",
       "\n",
       ".xr-attrs dd {\n",
       "  grid-column: 2;\n",
       "  white-space: pre-wrap;\n",
       "  word-break: break-all;\n",
       "}\n",
       "\n",
       ".xr-icon-database,\n",
       ".xr-icon-file-text2,\n",
       ".xr-no-icon {\n",
       "  display: inline-block;\n",
       "  vertical-align: middle;\n",
       "  width: 1em;\n",
       "  height: 1.5em !important;\n",
       "  stroke-width: 0;\n",
       "  stroke: currentColor;\n",
       "  fill: currentColor;\n",
       "}\n",
       "</style><pre class='xr-text-repr-fallback'>&lt;xarray.Dataset&gt; Size: 224B\n",
       "Dimensions:  (_sequence: 14)\n",
       "Dimensions without coordinates: _sequence\n",
       "Data variables:\n",
       "    seq      (_sequence) object 112B dask.array&lt;chunksize=(14,), meta=np.ndarray&gt;\n",
       "    target   (_sequence) float64 112B dask.array&lt;chunksize=(14,), meta=np.ndarray&gt;</pre><div class='xr-wrap' style='display:none'><div class='xr-header'><div class='xr-obj-type'>xarray.Dataset</div></div><ul class='xr-sections'><li class='xr-section-item'><input id='section-738685ba-4c59-4e9f-9969-fd7050b4dce7' class='xr-section-summary-in' type='checkbox' disabled ><label for='section-738685ba-4c59-4e9f-9969-fd7050b4dce7' class='xr-section-summary'  title='Expand/collapse section'>Dimensions:</label><div class='xr-section-inline-details'><ul class='xr-dim-list'><li><span>_sequence</span>: 14</li></ul></div><div class='xr-section-details'></div></li><li class='xr-section-item'><input id='section-f7bc1e8c-d91b-4a16-a640-f6eb891bc870' class='xr-section-summary-in' type='checkbox' disabled ><label for='section-f7bc1e8c-d91b-4a16-a640-f6eb891bc870' class='xr-section-summary'  title='Expand/collapse section'>Coordinates: <span>(0)</span></label><div class='xr-section-inline-details'></div><div class='xr-section-details'><ul class='xr-var-list'></ul></div></li><li class='xr-section-item'><input id='section-fdc33364-ebf2-449c-90be-0272045aef18' class='xr-section-summary-in' type='checkbox'  checked><label for='section-fdc33364-ebf2-449c-90be-0272045aef18' class='xr-section-summary' >Data variables: <span>(2)</span></label><div class='xr-section-inline-details'></div><div class='xr-section-details'><ul class='xr-var-list'><li class='xr-var-item'><div class='xr-var-name'><span>seq</span></div><div class='xr-var-dims'>(_sequence)</div><div class='xr-var-dtype'>object</div><div class='xr-var-preview xr-preview'>dask.array&lt;chunksize=(14,), meta=np.ndarray&gt;</div><input id='attrs-d1233384-aaef-4655-aa7c-00f012e95a89' class='xr-var-attrs-in' type='checkbox' ><label for='attrs-d1233384-aaef-4655-aa7c-00f012e95a89' title='Show/Hide attributes'><svg class='icon xr-icon-file-text2'><use xlink:href='#icon-file-text2'></use></svg></label><input id='data-1676c6c7-60ca-48fa-9840-ee65a8d88889' class='xr-var-data-in' type='checkbox'><label for='data-1676c6c7-60ca-48fa-9840-ee65a8d88889' title='Show/Hide data repr'><svg class='icon xr-icon-database'><use xlink:href='#icon-database'></use></svg></label><div class='xr-var-attrs'><dl class='xr-attrs'><dt><span>_FillValue :</span></dt><dd>0</dd></dl></div><div class='xr-var-data'><table>\n",
       "    <tr>\n",
       "        <td>\n",
       "            <table style=\"border-collapse: collapse;\">\n",
       "                <thead>\n",
       "                    <tr>\n",
       "                        <td> </td>\n",
       "                        <th> Array </th>\n",
       "                        <th> Chunk </th>\n",
       "                    </tr>\n",
       "                </thead>\n",
       "                <tbody>\n",
       "                    \n",
       "                    <tr>\n",
       "                        <th> Bytes </th>\n",
       "                        <td> 112 B </td>\n",
       "                        <td> 112 B </td>\n",
       "                    </tr>\n",
       "                    \n",
       "                    <tr>\n",
       "                        <th> Shape </th>\n",
       "                        <td> (14,) </td>\n",
       "                        <td> (14,) </td>\n",
       "                    </tr>\n",
       "                    <tr>\n",
       "                        <th> Dask graph </th>\n",
       "                        <td colspan=\"2\"> 1 chunks in 2 graph layers </td>\n",
       "                    </tr>\n",
       "                    <tr>\n",
       "                        <th> Data type </th>\n",
       "                        <td colspan=\"2\"> object numpy.ndarray </td>\n",
       "                    </tr>\n",
       "                </tbody>\n",
       "            </table>\n",
       "        </td>\n",
       "        <td>\n",
       "        <svg width=\"170\" height=\"86\" style=\"stroke:rgb(0,0,0);stroke-width:1\" >\n",
       "\n",
       "  <!-- Horizontal lines -->\n",
       "  <line x1=\"0\" y1=\"0\" x2=\"120\" y2=\"0\" style=\"stroke-width:2\" />\n",
       "  <line x1=\"0\" y1=\"36\" x2=\"120\" y2=\"36\" style=\"stroke-width:2\" />\n",
       "\n",
       "  <!-- Vertical lines -->\n",
       "  <line x1=\"0\" y1=\"0\" x2=\"0\" y2=\"36\" style=\"stroke-width:2\" />\n",
       "  <line x1=\"120\" y1=\"0\" x2=\"120\" y2=\"36\" style=\"stroke-width:2\" />\n",
       "\n",
       "  <!-- Colored Rectangle -->\n",
       "  <polygon points=\"0.0,0.0 120.0,0.0 120.0,36.659534236895894 0.0,36.659534236895894\" style=\"fill:#ECB172A0;stroke-width:0\"/>\n",
       "\n",
       "  <!-- Text -->\n",
       "  <text x=\"60.000000\" y=\"56.659534\" font-size=\"1.0rem\" font-weight=\"100\" text-anchor=\"middle\" >14</text>\n",
       "  <text x=\"140.000000\" y=\"18.329767\" font-size=\"1.0rem\" font-weight=\"100\" text-anchor=\"middle\" transform=\"rotate(0,140.000000,18.329767)\">1</text>\n",
       "</svg>\n",
       "        </td>\n",
       "    </tr>\n",
       "</table></div></li><li class='xr-var-item'><div class='xr-var-name'><span>target</span></div><div class='xr-var-dims'>(_sequence)</div><div class='xr-var-dtype'>float64</div><div class='xr-var-preview xr-preview'>dask.array&lt;chunksize=(14,), meta=np.ndarray&gt;</div><input id='attrs-630e2305-e960-4662-954f-89d26b8775e3' class='xr-var-attrs-in' type='checkbox' ><label for='attrs-630e2305-e960-4662-954f-89d26b8775e3' title='Show/Hide attributes'><svg class='icon xr-icon-file-text2'><use xlink:href='#icon-file-text2'></use></svg></label><input id='data-817ba3e8-6265-408a-a54c-565f28ad9bc9' class='xr-var-data-in' type='checkbox'><label for='data-817ba3e8-6265-408a-a54c-565f28ad9bc9' title='Show/Hide data repr'><svg class='icon xr-icon-database'><use xlink:href='#icon-database'></use></svg></label><div class='xr-var-attrs'><dl class='xr-attrs'><dt><span>_FillValue :</span></dt><dd>0.0</dd></dl></div><div class='xr-var-data'><table>\n",
       "    <tr>\n",
       "        <td>\n",
       "            <table style=\"border-collapse: collapse;\">\n",
       "                <thead>\n",
       "                    <tr>\n",
       "                        <td> </td>\n",
       "                        <th> Array </th>\n",
       "                        <th> Chunk </th>\n",
       "                    </tr>\n",
       "                </thead>\n",
       "                <tbody>\n",
       "                    \n",
       "                    <tr>\n",
       "                        <th> Bytes </th>\n",
       "                        <td> 112 B </td>\n",
       "                        <td> 112 B </td>\n",
       "                    </tr>\n",
       "                    \n",
       "                    <tr>\n",
       "                        <th> Shape </th>\n",
       "                        <td> (14,) </td>\n",
       "                        <td> (14,) </td>\n",
       "                    </tr>\n",
       "                    <tr>\n",
       "                        <th> Dask graph </th>\n",
       "                        <td colspan=\"2\"> 1 chunks in 2 graph layers </td>\n",
       "                    </tr>\n",
       "                    <tr>\n",
       "                        <th> Data type </th>\n",
       "                        <td colspan=\"2\"> float64 numpy.ndarray </td>\n",
       "                    </tr>\n",
       "                </tbody>\n",
       "            </table>\n",
       "        </td>\n",
       "        <td>\n",
       "        <svg width=\"170\" height=\"86\" style=\"stroke:rgb(0,0,0);stroke-width:1\" >\n",
       "\n",
       "  <!-- Horizontal lines -->\n",
       "  <line x1=\"0\" y1=\"0\" x2=\"120\" y2=\"0\" style=\"stroke-width:2\" />\n",
       "  <line x1=\"0\" y1=\"36\" x2=\"120\" y2=\"36\" style=\"stroke-width:2\" />\n",
       "\n",
       "  <!-- Vertical lines -->\n",
       "  <line x1=\"0\" y1=\"0\" x2=\"0\" y2=\"36\" style=\"stroke-width:2\" />\n",
       "  <line x1=\"120\" y1=\"0\" x2=\"120\" y2=\"36\" style=\"stroke-width:2\" />\n",
       "\n",
       "  <!-- Colored Rectangle -->\n",
       "  <polygon points=\"0.0,0.0 120.0,0.0 120.0,36.659534236895894 0.0,36.659534236895894\" style=\"fill:#ECB172A0;stroke-width:0\"/>\n",
       "\n",
       "  <!-- Text -->\n",
       "  <text x=\"60.000000\" y=\"56.659534\" font-size=\"1.0rem\" font-weight=\"100\" text-anchor=\"middle\" >14</text>\n",
       "  <text x=\"140.000000\" y=\"18.329767\" font-size=\"1.0rem\" font-weight=\"100\" text-anchor=\"middle\" transform=\"rotate(0,140.000000,18.329767)\">1</text>\n",
       "</svg>\n",
       "        </td>\n",
       "    </tr>\n",
       "</table></div></li></ul></div></li><li class='xr-section-item'><input id='section-2e7fa7a8-33ac-4a90-985e-96524ebdb137' class='xr-section-summary-in' type='checkbox' disabled ><label for='section-2e7fa7a8-33ac-4a90-985e-96524ebdb137' class='xr-section-summary'  title='Expand/collapse section'>Indexes: <span>(0)</span></label><div class='xr-section-inline-details'></div><div class='xr-section-details'><ul class='xr-var-list'></ul></div></li><li class='xr-section-item'><input id='section-4a51c118-9404-4a74-81ef-44632cfe5a4c' class='xr-section-summary-in' type='checkbox' disabled ><label for='section-4a51c118-9404-4a74-81ef-44632cfe5a4c' class='xr-section-summary'  title='Expand/collapse section'>Attributes: <span>(0)</span></label><div class='xr-section-inline-details'></div><div class='xr-section-details'><dl class='xr-attrs'></dl></div></li></ul></div></div>"
      ],
      "text/plain": [
       "<xarray.Dataset> Size: 224B\n",
       "Dimensions:  (_sequence: 14)\n",
       "Dimensions without coordinates: _sequence\n",
       "Data variables:\n",
       "    seq      (_sequence) object 112B dask.array<chunksize=(14,), meta=np.ndarray>\n",
       "    target   (_sequence) float64 112B dask.array<chunksize=(14,), meta=np.ndarray>"
      ]
     },
     "execution_count": 198,
     "metadata": {},
     "output_type": "execute_result"
    }
   ],
   "source": [
    "sdata"
   ]
  },
  {
   "cell_type": "markdown",
   "metadata": {},
   "source": [
    "## `read_flat_fasta`"
   ]
  },
  {
   "cell_type": "code",
   "execution_count": 187,
   "metadata": {},
   "outputs": [],
   "source": [
    "from seqdata import read_flat_fasta"
   ]
  },
  {
   "cell_type": "code",
   "execution_count": 189,
   "metadata": {},
   "outputs": [
    {
     "name": "stderr",
     "output_type": "stream",
     "text": [
      "100%|██████████| 7/7 [00:00<00:00, 1763.37it/s]\n"
     ]
    }
   ],
   "source": [
    "temp_dir = Path(out)\n",
    "temp_dir.mkdir(parents=True, exist_ok=True)\n",
    "out = temp_dir / 'output.zarr'\n",
    "\n",
    "sdata = read_flat_fasta(\n",
    "    fasta=variable_fasta_in,\n",
    "    out=out,\n",
    "    name=\"seq\",\n",
    "    fixed_length=False,\n",
    "    batch_size=50,\n",
    "    overwrite=True,\n",
    ")\n",
    "\n",
    "true = list(read_fasta(variable_fasta_in).values())\n",
    "seqs = sdata[\"seq\"].values.astype(str)\n",
    "assert np.array_equal(true, seqs), \"Sequences do not match.\"\n",
    "\n",
    "# Clean up temporary files\n",
    "for f in temp_dir.iterdir():\n",
    "    if f.is_dir():\n",
    "        os.system(f'rm -r {f}')\n",
    "    else:\n",
    "        f.unlink()"
   ]
  },
  {
   "cell_type": "markdown",
   "metadata": {},
   "source": [
    "# DONE!"
   ]
  },
  {
   "cell_type": "markdown",
   "metadata": {},
   "source": [
    "---"
   ]
  }
 ],
 "metadata": {
  "kernelspec": {
   "display_name": "Python 3.11 eugene_tools",
   "language": "python",
   "name": "eugene_tools"
  }
 },
 "nbformat": 4,
 "nbformat_minor": 2
}
